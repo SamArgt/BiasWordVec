{
 "cells": [
  {
   "cell_type": "code",
   "execution_count": 1,
   "metadata": {},
   "outputs": [
    {
     "name": "stderr",
     "output_type": "stream",
     "text": [
      "unable to import 'smart_open.gcs', disabling that module\n"
     ]
    }
   ],
   "source": [
    "import os\n",
    "import gensim\n",
    "from load_vectors import *\n",
    "import numpy as np\n",
    "import pandas as pd\n",
    "import matplotlib.pyplot as plt \n",
    "import seaborn as sns"
   ]
  },
  {
   "cell_type": "code",
   "execution_count": 2,
   "metadata": {},
   "outputs": [],
   "source": [
    "def analogy(a,b,x, topn=10, delta = 1):\n",
    "\n",
    "    y_potential = np.array(wv.most_similar(positive=[b, x], negative=[a], topn=1000 * topn))    \n",
    "    y_res = [y for y in y_potential if np.linalg.norm(np.array(wv[y[0]]) - np.array(wv[x])) < delta]\n",
    "\n",
    "    return np.array(y_res)[:min(topn,len(y_res))]"
   ]
  },
  {
   "cell_type": "code",
   "execution_count": 3,
   "metadata": {},
   "outputs": [
    {
     "data": {
      "text/plain": [
       "array([['copyspace', '0.43548518419265747'],\n",
       "       ['white-collar', '0.421195387840271'],\n",
       "       ['copy-space', '0.4126054048538208'],\n",
       "       ['businessteam', '0.3514088988304138'],\n",
       "       ['closeup', '0.3378716707229614'],\n",
       "       ['financially-motivated', '0.3356950581073761'],\n",
       "       ['businesswoman', '0.304948627948761'],\n",
       "       ['white-collared', '0.3030710816383362'],\n",
       "       ['background', '0.30270814895629883'],\n",
       "       ['mid-adult', '0.3012596070766449']], dtype='<U31')"
      ]
     },
     "execution_count": 3,
     "metadata": {},
     "output_type": "execute_result"
    }
   ],
   "source": [
    "analogy('african-american', 'criminal', 'caucasian', delta=1)"
   ]
  },
  {
   "cell_type": "code",
   "execution_count": 63,
   "metadata": {},
   "outputs": [
    {
     "data": {
      "text/plain": [
       "array([['background', '0.3604211211204529'],\n",
       "       ['supremacist', '0.3353336453437805'],\n",
       "       ['racially-motivated', '0.3348279595375061'],\n",
       "       ['white-hating', '0.32201069593429565'],\n",
       "       ['intra-racial', '0.31985798478126526'],\n",
       "       ['racially-tinged', '0.3172609508037567'],\n",
       "       ['white-supremacist', '0.3148684501647949'],\n",
       "       ['white-on-white', '0.3064350485801697'],\n",
       "       ['cross-burning', '0.30337032675743103'],\n",
       "       ['supremist', '0.2995809316635132']], dtype='<U34')"
      ]
     },
     "execution_count": 63,
     "metadata": {},
     "output_type": "execute_result"
    }
   ],
   "source": [
    "analogy('black', 'criminal', 'white', delta=1)"
   ]
  },
  {
   "cell_type": "code",
   "execution_count": 59,
   "metadata": {},
   "outputs": [
    {
     "data": {
      "text/plain": [
       "array([['supremacist', '0.4007965624332428'],\n",
       "       ['skin-head', '0.4006885290145874'],\n",
       "       ['peckerwoods', '0.3975106477737427'],\n",
       "       ['supremist', '0.3964173495769501'],\n",
       "       ['supremacists', '0.37695053219795227'],\n",
       "       ['white-supremacist', '0.37045812606811523'],\n",
       "       ['hoodie-wearing', '0.3673422932624817'],\n",
       "       ['supremists', '0.3510963022708893'],\n",
       "       ['white-hating', '0.3484446406364441'],\n",
       "       ['supremicist', '0.34474560618400574']], dtype='<U27')"
      ]
     },
     "execution_count": 59,
     "metadata": {},
     "output_type": "execute_result"
    }
   ],
   "source": [
    "analogy('black', 'gang', 'white', delta=1)"
   ]
  },
  {
   "cell_type": "code",
   "execution_count": 132,
   "metadata": {},
   "outputs": [
    {
     "data": {
      "text/plain": [
       "array([['nightriders', '0.3457847237586975'],\n",
       "       ['racially-motivated', '0.3340671956539154'],\n",
       "       ['gangster-style', '0.3148883879184723'],\n",
       "       ['military-looking', '0.29585129022598267'],\n",
       "       ['trenchcoated', '0.2765907347202301'],\n",
       "       ['black-hooded', '0.2693210542201996'],\n",
       "       ['hoodie-wearing', '0.2670661509037018'],\n",
       "       ['white-led', '0.2659369111061096'],\n",
       "       ['black-power', '0.26517051458358765'],\n",
       "       ['black-masked', '0.26066577434539795']], dtype='<U27')"
      ]
     },
     "execution_count": 132,
     "metadata": {},
     "output_type": "execute_result"
    }
   ],
   "source": [
    "analogy('white', 'police', 'black', delta=1)"
   ]
  },
  {
   "cell_type": "code",
   "execution_count": 140,
   "metadata": {},
   "outputs": [],
   "source": [
    "def cos(a,b,x,y):\n",
    "    aVec = np.array(wv[a])\n",
    "    bVec = np.array(wv[b])\n",
    "    xVec = np.array(wv[x])\n",
    "    yVec = np.array(wv[y])\n",
    "    numerator = (aVec-bVec).dot(xVec-yVec)\n",
    "    denominator = np.linalg.norm(aVec-bVec)*np.linalg.norm(xVec-yVec)\n",
    "    return numerator/(denominator if denominator != 0 else 1e-6)"
   ]
  },
  {
   "cell_type": "code",
   "execution_count": 141,
   "metadata": {},
   "outputs": [],
   "source": [
    "def generate_analogies(a,b, delta=1):\n",
    "    result = []\n",
    "    i=1\n",
    "    for x in wv.vocab:\n",
    "        for y in wv.vocab:\n",
    "            if np.linalg.norm(np.array(wv[y[0]]) - np.array(wv[x])) < delta:\n",
    "                result.append([a,b,x,y, cos(a,b,x,y)])\n",
    "    if i % ((len(wv.vocab)**2) // 100) == 0:\n",
    "        print(i *100 // (len(wv.vocab)**2))\n",
    "    return result"
   ]
  },
  {
   "cell_type": "code",
   "execution_count": 142,
   "metadata": {},
   "outputs": [
    {
     "ename": "KeyboardInterrupt",
     "evalue": "",
     "output_type": "error",
     "traceback": [
      "\u001b[0;31m---------------------------------------------------------------------------\u001b[0m",
      "\u001b[0;31mKeyboardInterrupt\u001b[0m                         Traceback (most recent call last)",
      "\u001b[0;32m<ipython-input-142-1b2429976b76>\u001b[0m in \u001b[0;36m<module>\u001b[0;34m\u001b[0m\n\u001b[0;32m----> 1\u001b[0;31m \u001b[0mresult\u001b[0m \u001b[0;34m=\u001b[0m \u001b[0mgenerate_analogies\u001b[0m\u001b[0;34m(\u001b[0m\u001b[0;34m\"blacks\"\u001b[0m\u001b[0;34m,\u001b[0m \u001b[0;34m\"whites\"\u001b[0m\u001b[0;34m)\u001b[0m\u001b[0;34m\u001b[0m\u001b[0;34m\u001b[0m\u001b[0m\n\u001b[0m",
      "\u001b[0;32m<ipython-input-141-72de311a9e92>\u001b[0m in \u001b[0;36mgenerate_analogies\u001b[0;34m(a, b, delta)\u001b[0m\n\u001b[1;32m      4\u001b[0m     \u001b[0;32mfor\u001b[0m \u001b[0mx\u001b[0m \u001b[0;32min\u001b[0m \u001b[0mwv\u001b[0m\u001b[0;34m.\u001b[0m\u001b[0mvocab\u001b[0m\u001b[0;34m:\u001b[0m\u001b[0;34m\u001b[0m\u001b[0;34m\u001b[0m\u001b[0m\n\u001b[1;32m      5\u001b[0m         \u001b[0;32mfor\u001b[0m \u001b[0my\u001b[0m \u001b[0;32min\u001b[0m \u001b[0mwv\u001b[0m\u001b[0;34m.\u001b[0m\u001b[0mvocab\u001b[0m\u001b[0;34m:\u001b[0m\u001b[0;34m\u001b[0m\u001b[0;34m\u001b[0m\u001b[0m\n\u001b[0;32m----> 6\u001b[0;31m             \u001b[0;32mif\u001b[0m \u001b[0mnp\u001b[0m\u001b[0;34m.\u001b[0m\u001b[0mlinalg\u001b[0m\u001b[0;34m.\u001b[0m\u001b[0mnorm\u001b[0m\u001b[0;34m(\u001b[0m\u001b[0mnp\u001b[0m\u001b[0;34m.\u001b[0m\u001b[0marray\u001b[0m\u001b[0;34m(\u001b[0m\u001b[0mwv\u001b[0m\u001b[0;34m[\u001b[0m\u001b[0my\u001b[0m\u001b[0;34m[\u001b[0m\u001b[0;36m0\u001b[0m\u001b[0;34m]\u001b[0m\u001b[0;34m]\u001b[0m\u001b[0;34m)\u001b[0m \u001b[0;34m-\u001b[0m \u001b[0mnp\u001b[0m\u001b[0;34m.\u001b[0m\u001b[0marray\u001b[0m\u001b[0;34m(\u001b[0m\u001b[0mwv\u001b[0m\u001b[0;34m[\u001b[0m\u001b[0mx\u001b[0m\u001b[0;34m]\u001b[0m\u001b[0;34m)\u001b[0m\u001b[0;34m)\u001b[0m \u001b[0;34m<\u001b[0m \u001b[0mdelta\u001b[0m\u001b[0;34m:\u001b[0m\u001b[0;34m\u001b[0m\u001b[0;34m\u001b[0m\u001b[0m\n\u001b[0m\u001b[1;32m      7\u001b[0m                 \u001b[0mresult\u001b[0m\u001b[0;34m.\u001b[0m\u001b[0mappend\u001b[0m\u001b[0;34m(\u001b[0m\u001b[0;34m[\u001b[0m\u001b[0ma\u001b[0m\u001b[0;34m,\u001b[0m\u001b[0mb\u001b[0m\u001b[0;34m,\u001b[0m\u001b[0mx\u001b[0m\u001b[0;34m,\u001b[0m\u001b[0my\u001b[0m\u001b[0;34m,\u001b[0m \u001b[0mcos\u001b[0m\u001b[0;34m(\u001b[0m\u001b[0ma\u001b[0m\u001b[0;34m,\u001b[0m\u001b[0mb\u001b[0m\u001b[0;34m,\u001b[0m\u001b[0mx\u001b[0m\u001b[0;34m,\u001b[0m\u001b[0my\u001b[0m\u001b[0;34m)\u001b[0m\u001b[0;34m]\u001b[0m\u001b[0;34m)\u001b[0m\u001b[0;34m\u001b[0m\u001b[0;34m\u001b[0m\u001b[0m\n\u001b[1;32m      8\u001b[0m     \u001b[0;32mif\u001b[0m \u001b[0mi\u001b[0m \u001b[0;34m%\u001b[0m \u001b[0;34m(\u001b[0m\u001b[0;34m(\u001b[0m\u001b[0mlen\u001b[0m\u001b[0;34m(\u001b[0m\u001b[0mwv\u001b[0m\u001b[0;34m.\u001b[0m\u001b[0mvocab\u001b[0m\u001b[0;34m)\u001b[0m\u001b[0;34m**\u001b[0m\u001b[0;36m2\u001b[0m\u001b[0;34m)\u001b[0m \u001b[0;34m//\u001b[0m \u001b[0;36m100\u001b[0m\u001b[0;34m)\u001b[0m \u001b[0;34m==\u001b[0m \u001b[0;36m0\u001b[0m\u001b[0;34m:\u001b[0m\u001b[0;34m\u001b[0m\u001b[0;34m\u001b[0m\u001b[0m\n",
      "\u001b[0;32m<__array_function__ internals>\u001b[0m in \u001b[0;36mnorm\u001b[0;34m(*args, **kwargs)\u001b[0m\n",
      "\u001b[0;32m~/anaconda3/lib/python3.7/site-packages/numpy/linalg/linalg.py\u001b[0m in \u001b[0;36mnorm\u001b[0;34m(x, ord, axis, keepdims)\u001b[0m\n\u001b[1;32m   2480\u001b[0m                 \u001b[0msqnorm\u001b[0m \u001b[0;34m=\u001b[0m \u001b[0mdot\u001b[0m\u001b[0;34m(\u001b[0m\u001b[0mx\u001b[0m\u001b[0;34m.\u001b[0m\u001b[0mreal\u001b[0m\u001b[0;34m,\u001b[0m \u001b[0mx\u001b[0m\u001b[0;34m.\u001b[0m\u001b[0mreal\u001b[0m\u001b[0;34m)\u001b[0m \u001b[0;34m+\u001b[0m \u001b[0mdot\u001b[0m\u001b[0;34m(\u001b[0m\u001b[0mx\u001b[0m\u001b[0;34m.\u001b[0m\u001b[0mimag\u001b[0m\u001b[0;34m,\u001b[0m \u001b[0mx\u001b[0m\u001b[0;34m.\u001b[0m\u001b[0mimag\u001b[0m\u001b[0;34m)\u001b[0m\u001b[0;34m\u001b[0m\u001b[0;34m\u001b[0m\u001b[0m\n\u001b[1;32m   2481\u001b[0m             \u001b[0;32melse\u001b[0m\u001b[0;34m:\u001b[0m\u001b[0;34m\u001b[0m\u001b[0;34m\u001b[0m\u001b[0m\n\u001b[0;32m-> 2482\u001b[0;31m                 \u001b[0msqnorm\u001b[0m \u001b[0;34m=\u001b[0m \u001b[0mdot\u001b[0m\u001b[0;34m(\u001b[0m\u001b[0mx\u001b[0m\u001b[0;34m,\u001b[0m \u001b[0mx\u001b[0m\u001b[0;34m)\u001b[0m\u001b[0;34m\u001b[0m\u001b[0;34m\u001b[0m\u001b[0m\n\u001b[0m\u001b[1;32m   2483\u001b[0m             \u001b[0mret\u001b[0m \u001b[0;34m=\u001b[0m \u001b[0msqrt\u001b[0m\u001b[0;34m(\u001b[0m\u001b[0msqnorm\u001b[0m\u001b[0;34m)\u001b[0m\u001b[0;34m\u001b[0m\u001b[0;34m\u001b[0m\u001b[0m\n\u001b[1;32m   2484\u001b[0m             \u001b[0;32mif\u001b[0m \u001b[0mkeepdims\u001b[0m\u001b[0;34m:\u001b[0m\u001b[0;34m\u001b[0m\u001b[0;34m\u001b[0m\u001b[0m\n",
      "\u001b[0;32m<__array_function__ internals>\u001b[0m in \u001b[0;36mdot\u001b[0;34m(*args, **kwargs)\u001b[0m\n",
      "\u001b[0;31mKeyboardInterrupt\u001b[0m: "
     ]
    }
   ],
   "source": [
    "result = generate_analogies(\"blacks\", \"whites\")"
   ]
  },
  {
   "cell_type": "code",
   "execution_count": 121,
   "metadata": {},
   "outputs": [],
   "source": [
    "race = {'african_american' : ['african american', 'black','blacks'],\n",
    "       'caucasian' : ['caucasian', 'white', 'whites']}"
   ]
  },
  {
   "cell_type": "code",
   "execution_count": 122,
   "metadata": {},
   "outputs": [
    {
     "name": "stdout",
     "output_type": "stream",
     "text": [
      "(576, 2)\n"
     ]
    },
    {
     "data": {
      "text/html": [
       "<div>\n",
       "<style scoped>\n",
       "    .dataframe tbody tr th:only-of-type {\n",
       "        vertical-align: middle;\n",
       "    }\n",
       "\n",
       "    .dataframe tbody tr th {\n",
       "        vertical-align: top;\n",
       "    }\n",
       "\n",
       "    .dataframe thead th {\n",
       "        text-align: right;\n",
       "    }\n",
       "</style>\n",
       "<table border=\"1\" class=\"dataframe\">\n",
       "  <thead>\n",
       "    <tr style=\"text-align: right;\">\n",
       "      <th></th>\n",
       "      <th>query_word</th>\n",
       "      <th>word</th>\n",
       "    </tr>\n",
       "  </thead>\n",
       "  <tbody>\n",
       "    <tr>\n",
       "      <td>0</td>\n",
       "      <td>assault</td>\n",
       "      <td>attack</td>\n",
       "    </tr>\n",
       "    <tr>\n",
       "      <td>1</td>\n",
       "      <td>assault</td>\n",
       "      <td>sexual assault</td>\n",
       "    </tr>\n",
       "    <tr>\n",
       "      <td>2</td>\n",
       "      <td>assault</td>\n",
       "      <td>rape</td>\n",
       "    </tr>\n",
       "    <tr>\n",
       "      <td>3</td>\n",
       "      <td>assault</td>\n",
       "      <td>battery</td>\n",
       "    </tr>\n",
       "    <tr>\n",
       "      <td>4</td>\n",
       "      <td>assault</td>\n",
       "      <td>violation</td>\n",
       "    </tr>\n",
       "  </tbody>\n",
       "</table>\n",
       "</div>"
      ],
      "text/plain": [
       "  query_word            word\n",
       "0    assault          attack\n",
       "1    assault  sexual assault\n",
       "2    assault            rape\n",
       "3    assault         battery\n",
       "4    assault       violation"
      ]
     },
     "execution_count": 122,
     "metadata": {},
     "output_type": "execute_result"
    }
   ],
   "source": [
    "crime_lexicon = pd.read_csv(\"data/crime_lexicon.csv\", index_col=0)\n",
    "print(crime_lexicon.shape)\n",
    "crime_lexicon.head()"
   ]
  },
  {
   "cell_type": "code",
   "execution_count": 123,
   "metadata": {},
   "outputs": [],
   "source": [
    "def cosine_similarities(word1, words_all):\n",
    "    w1 = wv.get_vector(word1)\n",
    "    vectors_all = [wv.get_vector(word) for word in words_all]\n",
    "    return wv.cosine_similarities(w1, vectors_all)"
   ]
  },
  {
   "cell_type": "code",
   "execution_count": 124,
   "metadata": {},
   "outputs": [],
   "source": [
    "sim_array = []\n",
    "for r, words in race.items():\n",
    "    similarities = np.zeros(len(crime_lexicon))\n",
    "    for w in words:\n",
    "        similarities += cosine_similarities(w, crime_lexicon.word.values) / len(words)\n",
    "        \n",
    "    crime_lexicon['similarity_' + r] = similarities"
   ]
  },
  {
   "cell_type": "code",
   "execution_count": 125,
   "metadata": {},
   "outputs": [
    {
     "data": {
      "text/html": [
       "<div>\n",
       "<style scoped>\n",
       "    .dataframe tbody tr th:only-of-type {\n",
       "        vertical-align: middle;\n",
       "    }\n",
       "\n",
       "    .dataframe tbody tr th {\n",
       "        vertical-align: top;\n",
       "    }\n",
       "\n",
       "    .dataframe thead th {\n",
       "        text-align: right;\n",
       "    }\n",
       "</style>\n",
       "<table border=\"1\" class=\"dataframe\">\n",
       "  <thead>\n",
       "    <tr style=\"text-align: right;\">\n",
       "      <th></th>\n",
       "      <th>query_word</th>\n",
       "      <th>word</th>\n",
       "      <th>similarity_african_american</th>\n",
       "      <th>similarity_caucasian</th>\n",
       "    </tr>\n",
       "  </thead>\n",
       "  <tbody>\n",
       "    <tr>\n",
       "      <td>0</td>\n",
       "      <td>assault</td>\n",
       "      <td>attack</td>\n",
       "      <td>0.067332</td>\n",
       "      <td>0.038630</td>\n",
       "    </tr>\n",
       "    <tr>\n",
       "      <td>1</td>\n",
       "      <td>assault</td>\n",
       "      <td>sexual assault</td>\n",
       "      <td>0.187763</td>\n",
       "      <td>0.092445</td>\n",
       "    </tr>\n",
       "    <tr>\n",
       "      <td>2</td>\n",
       "      <td>assault</td>\n",
       "      <td>rape</td>\n",
       "      <td>0.187724</td>\n",
       "      <td>0.177497</td>\n",
       "    </tr>\n",
       "    <tr>\n",
       "      <td>3</td>\n",
       "      <td>assault</td>\n",
       "      <td>battery</td>\n",
       "      <td>0.082161</td>\n",
       "      <td>0.100014</td>\n",
       "    </tr>\n",
       "    <tr>\n",
       "      <td>4</td>\n",
       "      <td>assault</td>\n",
       "      <td>violation</td>\n",
       "      <td>0.071319</td>\n",
       "      <td>0.051850</td>\n",
       "    </tr>\n",
       "  </tbody>\n",
       "</table>\n",
       "</div>"
      ],
      "text/plain": [
       "  query_word            word  similarity_african_american  \\\n",
       "0    assault          attack                     0.067332   \n",
       "1    assault  sexual assault                     0.187763   \n",
       "2    assault            rape                     0.187724   \n",
       "3    assault         battery                     0.082161   \n",
       "4    assault       violation                     0.071319   \n",
       "\n",
       "   similarity_caucasian  \n",
       "0              0.038630  \n",
       "1              0.092445  \n",
       "2              0.177497  \n",
       "3              0.100014  \n",
       "4              0.051850  "
      ]
     },
     "execution_count": 125,
     "metadata": {},
     "output_type": "execute_result"
    }
   ],
   "source": [
    "crime_lexicon.head()"
   ]
  },
  {
   "cell_type": "code",
   "execution_count": 126,
   "metadata": {},
   "outputs": [],
   "source": [
    "crime_lexicon['diff'] = crime_lexicon.similarity_african_american - crime_lexicon.similarity_caucasian"
   ]
  },
  {
   "cell_type": "code",
   "execution_count": 127,
   "metadata": {},
   "outputs": [
    {
     "data": {
      "text/html": [
       "<div>\n",
       "<style scoped>\n",
       "    .dataframe tbody tr th:only-of-type {\n",
       "        vertical-align: middle;\n",
       "    }\n",
       "\n",
       "    .dataframe tbody tr th {\n",
       "        vertical-align: top;\n",
       "    }\n",
       "\n",
       "    .dataframe thead th {\n",
       "        text-align: right;\n",
       "    }\n",
       "</style>\n",
       "<table border=\"1\" class=\"dataframe\">\n",
       "  <thead>\n",
       "    <tr style=\"text-align: right;\">\n",
       "      <th></th>\n",
       "      <th>similarity_african_american</th>\n",
       "      <th>similarity_caucasian</th>\n",
       "      <th>diff</th>\n",
       "    </tr>\n",
       "  </thead>\n",
       "  <tbody>\n",
       "    <tr>\n",
       "      <td>count</td>\n",
       "      <td>576.000000</td>\n",
       "      <td>576.000000</td>\n",
       "      <td>576.000000</td>\n",
       "    </tr>\n",
       "    <tr>\n",
       "      <td>mean</td>\n",
       "      <td>0.105702</td>\n",
       "      <td>0.095168</td>\n",
       "      <td>0.010535</td>\n",
       "    </tr>\n",
       "    <tr>\n",
       "      <td>std</td>\n",
       "      <td>0.047088</td>\n",
       "      <td>0.050294</td>\n",
       "      <td>0.035066</td>\n",
       "    </tr>\n",
       "    <tr>\n",
       "      <td>min</td>\n",
       "      <td>-0.066794</td>\n",
       "      <td>-0.038981</td>\n",
       "      <td>-0.085271</td>\n",
       "    </tr>\n",
       "    <tr>\n",
       "      <td>25%</td>\n",
       "      <td>0.072907</td>\n",
       "      <td>0.058747</td>\n",
       "      <td>-0.012045</td>\n",
       "    </tr>\n",
       "    <tr>\n",
       "      <td>50%</td>\n",
       "      <td>0.102426</td>\n",
       "      <td>0.092671</td>\n",
       "      <td>0.006212</td>\n",
       "    </tr>\n",
       "    <tr>\n",
       "      <td>75%</td>\n",
       "      <td>0.136089</td>\n",
       "      <td>0.126573</td>\n",
       "      <td>0.028574</td>\n",
       "    </tr>\n",
       "    <tr>\n",
       "      <td>max</td>\n",
       "      <td>0.268197</td>\n",
       "      <td>0.279949</td>\n",
       "      <td>0.139174</td>\n",
       "    </tr>\n",
       "  </tbody>\n",
       "</table>\n",
       "</div>"
      ],
      "text/plain": [
       "       similarity_african_american  similarity_caucasian        diff\n",
       "count                   576.000000            576.000000  576.000000\n",
       "mean                      0.105702              0.095168    0.010535\n",
       "std                       0.047088              0.050294    0.035066\n",
       "min                      -0.066794             -0.038981   -0.085271\n",
       "25%                       0.072907              0.058747   -0.012045\n",
       "50%                       0.102426              0.092671    0.006212\n",
       "75%                       0.136089              0.126573    0.028574\n",
       "max                       0.268197              0.279949    0.139174"
      ]
     },
     "execution_count": 127,
     "metadata": {},
     "output_type": "execute_result"
    }
   ],
   "source": [
    "crime_lexicon.describe()"
   ]
  },
  {
   "cell_type": "code",
   "execution_count": 128,
   "metadata": {},
   "outputs": [
    {
     "data": {
      "text/html": [
       "<div>\n",
       "<style scoped>\n",
       "    .dataframe tbody tr th:only-of-type {\n",
       "        vertical-align: middle;\n",
       "    }\n",
       "\n",
       "    .dataframe tbody tr th {\n",
       "        vertical-align: top;\n",
       "    }\n",
       "\n",
       "    .dataframe thead th {\n",
       "        text-align: right;\n",
       "    }\n",
       "</style>\n",
       "<table border=\"1\" class=\"dataframe\">\n",
       "  <thead>\n",
       "    <tr style=\"text-align: right;\">\n",
       "      <th></th>\n",
       "      <th>query_word</th>\n",
       "      <th>word</th>\n",
       "      <th>similarity_african_american</th>\n",
       "      <th>similarity_caucasian</th>\n",
       "      <th>diff</th>\n",
       "    </tr>\n",
       "  </thead>\n",
       "  <tbody>\n",
       "    <tr>\n",
       "      <td>148</td>\n",
       "      <td>burglary</td>\n",
       "      <td>asportation</td>\n",
       "      <td>0.051241</td>\n",
       "      <td>0.136512</td>\n",
       "      <td>-0.085271</td>\n",
       "    </tr>\n",
       "    <tr>\n",
       "      <td>84</td>\n",
       "      <td>assault</td>\n",
       "      <td>misdemeanor</td>\n",
       "      <td>0.040950</td>\n",
       "      <td>0.125755</td>\n",
       "      <td>-0.084805</td>\n",
       "    </tr>\n",
       "    <tr>\n",
       "      <td>394</td>\n",
       "      <td>crime</td>\n",
       "      <td>misdemeanour</td>\n",
       "      <td>0.018114</td>\n",
       "      <td>0.101556</td>\n",
       "      <td>-0.083442</td>\n",
       "    </tr>\n",
       "    <tr>\n",
       "      <td>72</td>\n",
       "      <td>assault</td>\n",
       "      <td>felony</td>\n",
       "      <td>0.080304</td>\n",
       "      <td>0.156879</td>\n",
       "      <td>-0.076576</td>\n",
       "    </tr>\n",
       "    <tr>\n",
       "      <td>67</td>\n",
       "      <td>assault</td>\n",
       "      <td>mug</td>\n",
       "      <td>0.101329</td>\n",
       "      <td>0.174782</td>\n",
       "      <td>-0.073453</td>\n",
       "    </tr>\n",
       "  </tbody>\n",
       "</table>\n",
       "</div>"
      ],
      "text/plain": [
       "    query_word          word  similarity_african_american  \\\n",
       "148   burglary   asportation                     0.051241   \n",
       "84     assault   misdemeanor                     0.040950   \n",
       "394      crime  misdemeanour                     0.018114   \n",
       "72     assault        felony                     0.080304   \n",
       "67     assault           mug                     0.101329   \n",
       "\n",
       "     similarity_caucasian      diff  \n",
       "148              0.136512 -0.085271  \n",
       "84               0.125755 -0.084805  \n",
       "394              0.101556 -0.083442  \n",
       "72               0.156879 -0.076576  \n",
       "67               0.174782 -0.073453  "
      ]
     },
     "execution_count": 128,
     "metadata": {},
     "output_type": "execute_result"
    }
   ],
   "source": [
    "crime_lexicon.sort_values('diff', ascending=True).head(5)"
   ]
  },
  {
   "cell_type": "code",
   "execution_count": 129,
   "metadata": {},
   "outputs": [
    {
     "data": {
      "text/html": [
       "<div>\n",
       "<style scoped>\n",
       "    .dataframe tbody tr th:only-of-type {\n",
       "        vertical-align: middle;\n",
       "    }\n",
       "\n",
       "    .dataframe tbody tr th {\n",
       "        vertical-align: top;\n",
       "    }\n",
       "\n",
       "    .dataframe thead th {\n",
       "        text-align: right;\n",
       "    }\n",
       "</style>\n",
       "<table border=\"1\" class=\"dataframe\">\n",
       "  <thead>\n",
       "    <tr style=\"text-align: right;\">\n",
       "      <th></th>\n",
       "      <th>query_word</th>\n",
       "      <th>word</th>\n",
       "      <th>similarity_african_american</th>\n",
       "      <th>similarity_caucasian</th>\n",
       "      <th>diff</th>\n",
       "    </tr>\n",
       "  </thead>\n",
       "  <tbody>\n",
       "    <tr>\n",
       "      <td>83</td>\n",
       "      <td>assault</td>\n",
       "      <td>statutory rape</td>\n",
       "      <td>0.184091</td>\n",
       "      <td>0.044916</td>\n",
       "      <td>0.139174</td>\n",
       "    </tr>\n",
       "    <tr>\n",
       "      <td>430</td>\n",
       "      <td>crime</td>\n",
       "      <td>infelonious</td>\n",
       "      <td>0.193940</td>\n",
       "      <td>0.058640</td>\n",
       "      <td>0.135300</td>\n",
       "    </tr>\n",
       "    <tr>\n",
       "      <td>919</td>\n",
       "      <td>gang</td>\n",
       "      <td>work party</td>\n",
       "      <td>0.183947</td>\n",
       "      <td>0.049543</td>\n",
       "      <td>0.134404</td>\n",
       "    </tr>\n",
       "    <tr>\n",
       "      <td>158</td>\n",
       "      <td>burglary</td>\n",
       "      <td>criminal contempt</td>\n",
       "      <td>0.202411</td>\n",
       "      <td>0.082077</td>\n",
       "      <td>0.120334</td>\n",
       "    </tr>\n",
       "    <tr>\n",
       "      <td>159</td>\n",
       "      <td>burglary</td>\n",
       "      <td>bolt cutter</td>\n",
       "      <td>0.149188</td>\n",
       "      <td>0.029501</td>\n",
       "      <td>0.119687</td>\n",
       "    </tr>\n",
       "  </tbody>\n",
       "</table>\n",
       "</div>"
      ],
      "text/plain": [
       "    query_word               word  similarity_african_american  \\\n",
       "83     assault     statutory rape                     0.184091   \n",
       "430      crime        infelonious                     0.193940   \n",
       "919       gang         work party                     0.183947   \n",
       "158   burglary  criminal contempt                     0.202411   \n",
       "159   burglary        bolt cutter                     0.149188   \n",
       "\n",
       "     similarity_caucasian      diff  \n",
       "83               0.044916  0.139174  \n",
       "430              0.058640  0.135300  \n",
       "919              0.049543  0.134404  \n",
       "158              0.082077  0.120334  \n",
       "159              0.029501  0.119687  "
      ]
     },
     "execution_count": 129,
     "metadata": {},
     "output_type": "execute_result"
    }
   ],
   "source": [
    "crime_lexicon.sort_values('diff', ascending=False).head(5)"
   ]
  },
  {
   "cell_type": "code",
   "execution_count": 130,
   "metadata": {},
   "outputs": [
    {
     "data": {
      "text/html": [
       "<div>\n",
       "<style scoped>\n",
       "    .dataframe tbody tr th:only-of-type {\n",
       "        vertical-align: middle;\n",
       "    }\n",
       "\n",
       "    .dataframe tbody tr th {\n",
       "        vertical-align: top;\n",
       "    }\n",
       "\n",
       "    .dataframe thead th {\n",
       "        text-align: right;\n",
       "    }\n",
       "</style>\n",
       "<table border=\"1\" class=\"dataframe\">\n",
       "  <thead>\n",
       "    <tr style=\"text-align: right;\">\n",
       "      <th></th>\n",
       "      <th>similarity_african_american</th>\n",
       "      <th>similarity_caucasian</th>\n",
       "      <th>diff</th>\n",
       "    </tr>\n",
       "    <tr>\n",
       "      <th>query_word</th>\n",
       "      <th></th>\n",
       "      <th></th>\n",
       "      <th></th>\n",
       "    </tr>\n",
       "  </thead>\n",
       "  <tbody>\n",
       "    <tr>\n",
       "      <td>burglary</td>\n",
       "      <td>0.113536</td>\n",
       "      <td>0.093776</td>\n",
       "      <td>0.019760</td>\n",
       "    </tr>\n",
       "    <tr>\n",
       "      <td>drugs</td>\n",
       "      <td>0.101549</td>\n",
       "      <td>0.085052</td>\n",
       "      <td>0.016497</td>\n",
       "    </tr>\n",
       "    <tr>\n",
       "      <td>criminal</td>\n",
       "      <td>0.112135</td>\n",
       "      <td>0.095719</td>\n",
       "      <td>0.016416</td>\n",
       "    </tr>\n",
       "    <tr>\n",
       "      <td>prison</td>\n",
       "      <td>0.108561</td>\n",
       "      <td>0.093492</td>\n",
       "      <td>0.015069</td>\n",
       "    </tr>\n",
       "    <tr>\n",
       "      <td>crime</td>\n",
       "      <td>0.107709</td>\n",
       "      <td>0.096775</td>\n",
       "      <td>0.010935</td>\n",
       "    </tr>\n",
       "    <tr>\n",
       "      <td>fraud</td>\n",
       "      <td>0.087705</td>\n",
       "      <td>0.077197</td>\n",
       "      <td>0.010508</td>\n",
       "    </tr>\n",
       "    <tr>\n",
       "      <td>assault</td>\n",
       "      <td>0.094455</td>\n",
       "      <td>0.090336</td>\n",
       "      <td>0.004119</td>\n",
       "    </tr>\n",
       "    <tr>\n",
       "      <td>police</td>\n",
       "      <td>0.107968</td>\n",
       "      <td>0.105473</td>\n",
       "      <td>0.002495</td>\n",
       "    </tr>\n",
       "    <tr>\n",
       "      <td>gang</td>\n",
       "      <td>0.121850</td>\n",
       "      <td>0.120001</td>\n",
       "      <td>0.001849</td>\n",
       "    </tr>\n",
       "  </tbody>\n",
       "</table>\n",
       "</div>"
      ],
      "text/plain": [
       "            similarity_african_american  similarity_caucasian      diff\n",
       "query_word                                                             \n",
       "burglary                       0.113536              0.093776  0.019760\n",
       "drugs                          0.101549              0.085052  0.016497\n",
       "criminal                       0.112135              0.095719  0.016416\n",
       "prison                         0.108561              0.093492  0.015069\n",
       "crime                          0.107709              0.096775  0.010935\n",
       "fraud                          0.087705              0.077197  0.010508\n",
       "assault                        0.094455              0.090336  0.004119\n",
       "police                         0.107968              0.105473  0.002495\n",
       "gang                           0.121850              0.120001  0.001849"
      ]
     },
     "execution_count": 130,
     "metadata": {},
     "output_type": "execute_result"
    }
   ],
   "source": [
    "crime_lexicon.groupby('query_word').mean().sort_values(\"diff\", ascending=False)"
   ]
  },
  {
   "cell_type": "code",
   "execution_count": 131,
   "metadata": {},
   "outputs": [
    {
     "data": {
      "image/png": "[encoded data removed]",
      "text/plain": [
       "<Figure size 504x432 with 1 Axes>"
      ]
     },
     "metadata": {
      "needs_background": "light"
     },
     "output_type": "display_data"
    }
   ],
   "source": [
    "plt.figure(figsize=(7,6))\n",
    "sns.scatterplot(x=\"similarity_african_american\", y=\"similarity_caucasian\", hue=\"query_word\",\n",
    "                data=crime_lexicon)\n",
    "plt.plot([0,0.25], [0,0.25], c='black', linestyle='--')\n",
    "plt.show()"
   ]
  },
  {
   "cell_type": "code",
   "execution_count": 109,
   "metadata": {},
   "outputs": [
    {
     "data": {
      "image/png": "[encoded data removed]",
      "text/plain": [
       "<Figure size 504x432 with 1 Axes>"
      ]
     },
     "metadata": {
      "needs_background": "light"
     },
     "output_type": "display_data"
    }
   ],
   "source": [
    "plt.figure(figsize=(7,6))\n",
    "sns.scatterplot(x=\"similarity_african_american\", y=\"similarity_caucasian\", hue=\"query_word\",\n",
    "                data=crime_lexicon.loc[crime_lexicon.query_word.isin(['burglary'])])\n",
    "plt.plot([0,0.25], [0,0.25], c='black', linestyle='--')\n",
    "plt.show()"
   ]
  },
  {
   "cell_type": "code",
   "execution_count": null,
   "metadata": {},
   "outputs": [],
   "source": []
  }
 ],
 "metadata": {
  "kernelspec": {
   "display_name": "Python 3",
   "language": "python",
   "name": "python3"
  },
  "language_info": {
   "codemirror_mode": {
    "name": "ipython",
    "version": 3
   },
   "file_extension": ".py",
   "mimetype": "text/x-python",
   "name": "python",
   "nbconvert_exporter": "python",
   "pygments_lexer": "ipython3",
   "version": "3.7.4"
  }
 },
 "nbformat": 4,
 "nbformat_minor": 2
}
