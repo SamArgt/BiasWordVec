{
 "cells": [
  {
   "cell_type": "code",
   "execution_count": 4,
   "metadata": {},
   "outputs": [
    {
     "name": "stderr",
     "output_type": "stream",
     "text": [
      "unable to import 'smart_open.gcs', disabling that module\n"
     ]
    }
   ],
   "source": [
    "import os\n",
    "import gensim\n",
    "#from load_vectors import *\n",
    "import numpy as np\n",
    "import pandas as pd\n",
    "import matplotlib.pyplot as plt \n",
    "import seaborn as sns"
   ]
  },
  {
   "cell_type": "code",
   "execution_count": 2,
   "metadata": {},
   "outputs": [
    {
     "name": "stdout",
     "output_type": "stream",
     "text": [
      "(2000000, 300)\n"
     ]
    }
   ],
   "source": [
    "print(wv.vectors_vocab.shape)"
   ]
  },
  {
   "cell_type": "code",
   "execution_count": 3,
   "metadata": {},
   "outputs": [
    {
     "data": {
      "text/html": [
       "<div>\n",
       "<style scoped>\n",
       "    .dataframe tbody tr th:only-of-type {\n",
       "        vertical-align: middle;\n",
       "    }\n",
       "\n",
       "    .dataframe tbody tr th {\n",
       "        vertical-align: top;\n",
       "    }\n",
       "\n",
       "    .dataframe thead th {\n",
       "        text-align: right;\n",
       "    }\n",
       "</style>\n",
       "<table border=\"1\" class=\"dataframe\">\n",
       "  <thead>\n",
       "    <tr style=\"text-align: right;\">\n",
       "      <th></th>\n",
       "      <th>hardworking</th>\n",
       "      <th>coward</th>\n",
       "      <th>arrogant</th>\n",
       "      <th>drunken</th>\n",
       "      <th>macho</th>\n",
       "      <th>fiery</th>\n",
       "      <th>chauvinism</th>\n",
       "      <th>lazy</th>\n",
       "      <th>corrupt</th>\n",
       "    </tr>\n",
       "  </thead>\n",
       "  <tbody>\n",
       "    <tr>\n",
       "      <td>0</td>\n",
       "      <td>hardworking</td>\n",
       "      <td>coward</td>\n",
       "      <td>arrogant</td>\n",
       "      <td>drunken</td>\n",
       "      <td>macho</td>\n",
       "      <td>fiery</td>\n",
       "      <td>chauvinism</td>\n",
       "      <td>lazy</td>\n",
       "      <td>corrupt</td>\n",
       "    </tr>\n",
       "    <tr>\n",
       "      <td>1</td>\n",
       "      <td>dedicated</td>\n",
       "      <td>wimp</td>\n",
       "      <td>aloof</td>\n",
       "      <td>alcoholic</td>\n",
       "      <td>manly</td>\n",
       "      <td>hot-blooded</td>\n",
       "      <td>patriotism</td>\n",
       "      <td>passive</td>\n",
       "      <td>crooked</td>\n",
       "    </tr>\n",
       "    <tr>\n",
       "      <td>2</td>\n",
       "      <td>assiduous</td>\n",
       "      <td>weak</td>\n",
       "      <td>bossy</td>\n",
       "      <td>drinking</td>\n",
       "      <td>machismo</td>\n",
       "      <td>hot-headed</td>\n",
       "      <td>bigotry</td>\n",
       "      <td>procrastinating</td>\n",
       "      <td>fraudulent</td>\n",
       "    </tr>\n",
       "    <tr>\n",
       "      <td>3</td>\n",
       "      <td>diligent</td>\n",
       "      <td>mouse</td>\n",
       "      <td>cavalier</td>\n",
       "      <td>alcohol</td>\n",
       "      <td>NaN</td>\n",
       "      <td>hot-tempered</td>\n",
       "      <td>nationalism</td>\n",
       "      <td>idle</td>\n",
       "      <td>rotten</td>\n",
       "    </tr>\n",
       "    <tr>\n",
       "      <td>4</td>\n",
       "      <td>assiduous</td>\n",
       "      <td>NaN</td>\n",
       "      <td>cocky</td>\n",
       "      <td>hard-drinker</td>\n",
       "      <td>NaN</td>\n",
       "      <td>passionate</td>\n",
       "      <td>racist</td>\n",
       "      <td>loafing</td>\n",
       "      <td>unethical</td>\n",
       "    </tr>\n",
       "  </tbody>\n",
       "</table>\n",
       "</div>"
      ],
      "text/plain": [
       "   hardworking  coward  arrogant       drunken     macho         fiery  \\\n",
       "0  hardworking  coward  arrogant       drunken     macho         fiery   \n",
       "1    dedicated    wimp     aloof     alcoholic     manly   hot-blooded   \n",
       "2    assiduous    weak     bossy      drinking  machismo    hot-headed   \n",
       "3     diligent   mouse  cavalier       alcohol       NaN  hot-tempered   \n",
       "4    assiduous     NaN     cocky  hard-drinker       NaN    passionate   \n",
       "\n",
       "    chauvinism             lazy     corrupt  \n",
       "0   chauvinism             lazy     corrupt  \n",
       "1   patriotism          passive     crooked  \n",
       "2      bigotry  procrastinating  fraudulent  \n",
       "3  nationalism             idle      rotten  \n",
       "4       racist          loafing   unethical  "
      ]
     },
     "execution_count": 3,
     "metadata": {},
     "output_type": "execute_result"
    }
   ],
   "source": [
    "adjectives = pd.read_csv(\"data/adjective_synonyms.csv\")\n",
    "adjectives.head()"
   ]
  },
  {
   "cell_type": "code",
   "execution_count": 4,
   "metadata": {},
   "outputs": [],
   "source": [
    "nationalities = np.array([['britain', 'british'],\n",
    "                        ['france', 'french'],\n",
    "                        ['spain', 'spanish'],\n",
    "                        ['italy', 'italian'],\n",
    "                        ['germany','german'],\n",
    "                        ['poland', 'polish']])\n",
    "adj_columns = adjectives.columns.values"
   ]
  },
  {
   "cell_type": "code",
   "execution_count": 5,
   "metadata": {},
   "outputs": [],
   "source": [
    "def cosine_similarities(word1, words_all):\n",
    "    w1 = wv.get_vector(word1)\n",
    "    vectors_all = [wv.get_vector(word) for word in words_all]\n",
    "    return wv.cosine_similarities(w1, vectors_all)\n",
    "\n",
    "def nationality_similarities(wv, nat_arr, adj_arr):\n",
    "    c,n = nat_arr\n",
    "    adj_arr = list(adj_arr)\n",
    "    try:\n",
    "        n_distances = cosine_similarities(n, adj_arr)\n",
    "        c_distances = cosine_similarities(c, adj_arr)\n",
    "    except KeyError:\n",
    "        n_distances = []\n",
    "        c_distances = []\n",
    "        for adj in adj_arr:\n",
    "            if adj in wv:\n",
    "                n_distances.append(wv.similarity(n, adj))\n",
    "                c_distances.append(wv.similarity(c, adj))\n",
    "        n_distances = np.array(n_distances, dtype=float)\n",
    "        c_distances = np.array(c_distances, dtype=float)\n",
    "    distances = np.concatenate((n_distances, c_distances))\n",
    "    return c,n, adj_arr[0], adj_arr, c_distances, n_distances"
   ]
  },
  {
   "cell_type": "code",
   "execution_count": 6,
   "metadata": {},
   "outputs": [
    {
     "name": "stdout",
     "output_type": "stream",
     "text": [
      "1 4\n",
      "2 5\n",
      "3 6\n"
     ]
    }
   ],
   "source": [
    "a = [1,2,3]\n",
    "b = [4,5,6]\n",
    "for v1, v2 in zip(a,b):\n",
    "    print(v1, v2)"
   ]
  },
  {
   "cell_type": "code",
   "execution_count": 7,
   "metadata": {},
   "outputs": [],
   "source": [
    "results = []\n",
    "for nat_arr in nationalities:\n",
    "    for adj in adj_columns:\n",
    "        adj_arr = adjectives[adj].dropna().tolist()\n",
    "        res = nationality_similarities(wv, nat_arr, adj_arr)\n",
    "        c,n, st, adj_arr, c_distances, n_distances = res\n",
    "        for adj, c_sim, n_sim in zip(adj_arr, c_distances, n_distances):\n",
    "            results.append([c, st, adj, c_sim])\n",
    "            results.append([n, st, adj, n_sim])"
   ]
  },
  {
   "cell_type": "code",
   "execution_count": 8,
   "metadata": {},
   "outputs": [
    {
     "data": {
      "text/html": [
       "<div>\n",
       "<style scoped>\n",
       "    .dataframe tbody tr th:only-of-type {\n",
       "        vertical-align: middle;\n",
       "    }\n",
       "\n",
       "    .dataframe tbody tr th {\n",
       "        vertical-align: top;\n",
       "    }\n",
       "\n",
       "    .dataframe thead th {\n",
       "        text-align: right;\n",
       "    }\n",
       "</style>\n",
       "<table border=\"1\" class=\"dataframe\">\n",
       "  <thead>\n",
       "    <tr style=\"text-align: right;\">\n",
       "      <th></th>\n",
       "      <th>nationality_country</th>\n",
       "      <th>stereotype</th>\n",
       "      <th>adjectives</th>\n",
       "      <th>similarity</th>\n",
       "      <th>nationality</th>\n",
       "    </tr>\n",
       "  </thead>\n",
       "  <tbody>\n",
       "    <tr>\n",
       "      <td>0</td>\n",
       "      <td>britain</td>\n",
       "      <td>hardworking</td>\n",
       "      <td>hardworking</td>\n",
       "      <td>0.009308</td>\n",
       "      <td>british</td>\n",
       "    </tr>\n",
       "    <tr>\n",
       "      <td>1</td>\n",
       "      <td>british</td>\n",
       "      <td>hardworking</td>\n",
       "      <td>hardworking</td>\n",
       "      <td>0.132650</td>\n",
       "      <td>british</td>\n",
       "    </tr>\n",
       "    <tr>\n",
       "      <td>2</td>\n",
       "      <td>britain</td>\n",
       "      <td>hardworking</td>\n",
       "      <td>dedicated</td>\n",
       "      <td>0.021571</td>\n",
       "      <td>british</td>\n",
       "    </tr>\n",
       "    <tr>\n",
       "      <td>3</td>\n",
       "      <td>british</td>\n",
       "      <td>hardworking</td>\n",
       "      <td>dedicated</td>\n",
       "      <td>0.052565</td>\n",
       "      <td>british</td>\n",
       "    </tr>\n",
       "    <tr>\n",
       "      <td>4</td>\n",
       "      <td>britain</td>\n",
       "      <td>hardworking</td>\n",
       "      <td>assiduous</td>\n",
       "      <td>0.112771</td>\n",
       "      <td>british</td>\n",
       "    </tr>\n",
       "  </tbody>\n",
       "</table>\n",
       "</div>"
      ],
      "text/plain": [
       "  nationality_country   stereotype   adjectives  similarity nationality\n",
       "0             britain  hardworking  hardworking    0.009308     british\n",
       "1             british  hardworking  hardworking    0.132650     british\n",
       "2             britain  hardworking    dedicated    0.021571     british\n",
       "3             british  hardworking    dedicated    0.052565     british\n",
       "4             britain  hardworking    assiduous    0.112771     british"
      ]
     },
     "execution_count": 8,
     "metadata": {},
     "output_type": "execute_result"
    }
   ],
   "source": [
    "results_df = pd.DataFrame(data=results, columns=['nationality_country', 'stereotype', 'adjectives', 'similarity'])\n",
    "results_df['nationality'] = results_df['nationality_country'].replace(to_replace = nationalities[:,0],\n",
    "                                                                     value = nationalities[:,1])\n",
    "results_df.head()"
   ]
  },
  {
   "cell_type": "raw",
   "metadata": {},
   "source": [
    "results_df['weights'] = results_df.apply(lambda x: wv.similarity(x.stereotype, x.adjective), axis=1)\n",
    "for nat in nationalities[:,1]:\n",
    "    for st in adj_columns:\n",
    "        weight_norm = np.sum(results_df.loc[(results_df.nationality == nat)&(results_df.stereotype == st),\n",
    "                                           'weights'])\n",
    "        results_df.loc[(results_df.nationality == nat)&(results_df.stereotype == st), 'weights'] /= weight_norm\n",
    "        \n",
    "results_df['weighted_similarity'] = results_df['similarity'] * results_df['weights']"
   ]
  },
  {
   "cell_type": "code",
   "execution_count": 107,
   "metadata": {},
   "outputs": [
    {
     "data": {
      "image/png": "[encoded data removed]",
      "text/plain": [
       "<Figure size 1584x1152 with 9 Axes>"
      ]
     },
     "metadata": {
      "needs_background": "light"
     },
     "output_type": "display_data"
    }
   ],
   "source": [
    "f, axes = plt.subplots(nrows=3, ncols=3, figsize=(22,16), sharey=False)\n",
    "axes = axes.flatten()\n",
    "for i, adj in enumerate(adj_columns):\n",
    "    sub_df = results_df.loc[results_df.stereotype==adj]\n",
    "    sns.swarmplot(x=\"nationality\", y=\"similarity\", data=sub_df, ax=axes[i], s=7)\n",
    "    axes[i].set_title(adj)\n",
    "    axes[i].set_xlabel(\"\")\n",
    "plt.show()"
   ]
  },
  {
   "cell_type": "code",
   "execution_count": 78,
   "metadata": {},
   "outputs": [
    {
     "name": "stdout",
     "output_type": "stream",
     "text": [
      "[['british' 'hardworking' 'sedulous' 0.1879824995994568 'british']\n",
      " ['italian' 'hardworking' 'hardworking' 0.18706628680229187 'italian']\n",
      " ['italian' 'hardworking' 'sedulous' 0.18597203493118286 'italian']]\n",
      "[['british' 'coward' 'wimp' 0.1722680926322937 'british']\n",
      " ['british' 'coward' 'coward' 0.16794683039188385 'british']\n",
      " ['german' 'coward' 'coward' 0.1372092366218567 'german']]\n",
      "[['british' 'arrogant' 'pompous' 0.2794080078601837 'british']\n",
      " ['french' 'arrogant' 'pretentious' 0.26753610372543335 'french']\n",
      " ['british' 'arrogant' 'cavalier' 0.24716220796108246 'british']]\n",
      "[['british' 'drunken' 'boozer' 0.27728408575057983 'british']\n",
      " ['britain' 'drunken' 'boozer' 0.2307625114917755 'british']\n",
      " ['polish' 'drunken' 'alcohol' 0.21898861229419708 'polish']]\n",
      "[['spanish' 'macho' 'machismo' 0.2573963403701782 'spanish']\n",
      " ['british' 'macho' 'macho' 0.23276029527187347 'british']\n",
      " ['italian' 'macho' 'macho' 0.22642025351524353 'italian']]\n",
      "[['italian' 'fiery' 'hot-blooded' 0.2552368640899658 'italian']\n",
      " ['italian' 'fiery' 'passionate' 0.20669609308242798 'italian']\n",
      " ['spanish' 'fiery' 'hot-blooded' 0.19119073450565338 'spanish']]\n",
      "[['britain' 'chauvinism' 'nationalism' 0.29818812012672424 'british']\n",
      " ['germany' 'chauvinism' 'antisemitism' 0.2647244930267334 'german']\n",
      " ['british' 'chauvinism' 'nationalism' 0.2642110586166382 'british']]\n",
      "[['french' 'lazy' 'lazy' 0.22271236777305603 'french']\n",
      " ['british' 'lazy' 'lazy' 0.18784171342849731 'british']\n",
      " ['polish' 'lazy' 'procrastinating' 0.18215277791023254 'polish']]\n",
      "[['french' 'corrupt' 'rotten' 0.18288123607635498 'french']\n",
      " ['polish' 'corrupt' 'rotten' 0.17200669646263123 'polish']\n",
      " ['poland' 'corrupt' 'rotten' 0.171680748462677 'polish']]\n"
     ]
    }
   ],
   "source": [
    "for stereotype in adj_columns:\n",
    "    sub_df = results_df.loc[results_df.stereotype == stereotype]\n",
    "    print(sub_df.sort_values(\"similarity\", ascending=False).head(3).values)"
   ]
  },
  {
   "cell_type": "code",
   "execution_count": 83,
   "metadata": {},
   "outputs": [
    {
     "data": {
      "text/html": [
       "<div>\n",
       "<style scoped>\n",
       "    .dataframe tbody tr th:only-of-type {\n",
       "        vertical-align: middle;\n",
       "    }\n",
       "\n",
       "    .dataframe tbody tr th {\n",
       "        vertical-align: top;\n",
       "    }\n",
       "\n",
       "    .dataframe thead th {\n",
       "        text-align: right;\n",
       "    }\n",
       "</style>\n",
       "<table border=\"1\" class=\"dataframe\">\n",
       "  <thead>\n",
       "    <tr style=\"text-align: right;\">\n",
       "      <th></th>\n",
       "      <th>nationality_country</th>\n",
       "      <th>stereotype</th>\n",
       "      <th>adjectives</th>\n",
       "      <th>similarity</th>\n",
       "      <th>nationality</th>\n",
       "    </tr>\n",
       "  </thead>\n",
       "  <tbody>\n",
       "    <tr>\n",
       "      <td>41</td>\n",
       "      <td>british</td>\n",
       "      <td>arrogant</td>\n",
       "      <td>pompous</td>\n",
       "      <td>0.279408</td>\n",
       "      <td>british</td>\n",
       "    </tr>\n",
       "    <tr>\n",
       "      <td>157</td>\n",
       "      <td>french</td>\n",
       "      <td>arrogant</td>\n",
       "      <td>pompous</td>\n",
       "      <td>0.223478</td>\n",
       "      <td>french</td>\n",
       "    </tr>\n",
       "    <tr>\n",
       "      <td>389</td>\n",
       "      <td>italian</td>\n",
       "      <td>arrogant</td>\n",
       "      <td>pompous</td>\n",
       "      <td>0.174409</td>\n",
       "      <td>italian</td>\n",
       "    </tr>\n",
       "    <tr>\n",
       "      <td>273</td>\n",
       "      <td>spanish</td>\n",
       "      <td>arrogant</td>\n",
       "      <td>pompous</td>\n",
       "      <td>0.160608</td>\n",
       "      <td>spanish</td>\n",
       "    </tr>\n",
       "    <tr>\n",
       "      <td>505</td>\n",
       "      <td>german</td>\n",
       "      <td>arrogant</td>\n",
       "      <td>pompous</td>\n",
       "      <td>0.159025</td>\n",
       "      <td>german</td>\n",
       "    </tr>\n",
       "    <tr>\n",
       "      <td>40</td>\n",
       "      <td>britain</td>\n",
       "      <td>arrogant</td>\n",
       "      <td>pompous</td>\n",
       "      <td>0.119873</td>\n",
       "      <td>british</td>\n",
       "    </tr>\n",
       "  </tbody>\n",
       "</table>\n",
       "</div>"
      ],
      "text/plain": [
       "    nationality_country stereotype adjectives  similarity nationality\n",
       "41              british   arrogant    pompous    0.279408     british\n",
       "157              french   arrogant    pompous    0.223478      french\n",
       "389             italian   arrogant    pompous    0.174409     italian\n",
       "273             spanish   arrogant    pompous    0.160608     spanish\n",
       "505              german   arrogant    pompous    0.159025      german\n",
       "40              britain   arrogant    pompous    0.119873     british"
      ]
     },
     "execution_count": 83,
     "metadata": {},
     "output_type": "execute_result"
    }
   ],
   "source": [
    "results_df.loc[results_df.adjectives == 'pompous'].sort_values(\"similarity\", ascending=False).head(6)"
   ]
  },
  {
   "cell_type": "code",
   "execution_count": 84,
   "metadata": {},
   "outputs": [
    {
     "data": {
      "text/html": [
       "<div>\n",
       "<style scoped>\n",
       "    .dataframe tbody tr th:only-of-type {\n",
       "        vertical-align: middle;\n",
       "    }\n",
       "\n",
       "    .dataframe tbody tr th {\n",
       "        vertical-align: top;\n",
       "    }\n",
       "\n",
       "    .dataframe thead th {\n",
       "        text-align: right;\n",
       "    }\n",
       "</style>\n",
       "<table border=\"1\" class=\"dataframe\">\n",
       "  <thead>\n",
       "    <tr style=\"text-align: right;\">\n",
       "      <th></th>\n",
       "      <th>nationality_country</th>\n",
       "      <th>stereotype</th>\n",
       "      <th>adjectives</th>\n",
       "      <th>similarity</th>\n",
       "      <th>nationality</th>\n",
       "    </tr>\n",
       "  </thead>\n",
       "  <tbody>\n",
       "    <tr>\n",
       "      <td>419</td>\n",
       "      <td>italian</td>\n",
       "      <td>fiery</td>\n",
       "      <td>hot-blooded</td>\n",
       "      <td>0.255237</td>\n",
       "      <td>italian</td>\n",
       "    </tr>\n",
       "    <tr>\n",
       "      <td>303</td>\n",
       "      <td>spanish</td>\n",
       "      <td>fiery</td>\n",
       "      <td>hot-blooded</td>\n",
       "      <td>0.191191</td>\n",
       "      <td>spanish</td>\n",
       "    </tr>\n",
       "    <tr>\n",
       "      <td>535</td>\n",
       "      <td>german</td>\n",
       "      <td>fiery</td>\n",
       "      <td>hot-blooded</td>\n",
       "      <td>0.167770</td>\n",
       "      <td>german</td>\n",
       "    </tr>\n",
       "    <tr>\n",
       "      <td>71</td>\n",
       "      <td>british</td>\n",
       "      <td>fiery</td>\n",
       "      <td>hot-blooded</td>\n",
       "      <td>0.155020</td>\n",
       "      <td>british</td>\n",
       "    </tr>\n",
       "    <tr>\n",
       "      <td>187</td>\n",
       "      <td>french</td>\n",
       "      <td>fiery</td>\n",
       "      <td>hot-blooded</td>\n",
       "      <td>0.120711</td>\n",
       "      <td>french</td>\n",
       "    </tr>\n",
       "    <tr>\n",
       "      <td>302</td>\n",
       "      <td>spain</td>\n",
       "      <td>fiery</td>\n",
       "      <td>hot-blooded</td>\n",
       "      <td>0.091191</td>\n",
       "      <td>spanish</td>\n",
       "    </tr>\n",
       "  </tbody>\n",
       "</table>\n",
       "</div>"
      ],
      "text/plain": [
       "    nationality_country stereotype   adjectives  similarity nationality\n",
       "419             italian      fiery  hot-blooded    0.255237     italian\n",
       "303             spanish      fiery  hot-blooded    0.191191     spanish\n",
       "535              german      fiery  hot-blooded    0.167770      german\n",
       "71              british      fiery  hot-blooded    0.155020     british\n",
       "187              french      fiery  hot-blooded    0.120711      french\n",
       "302               spain      fiery  hot-blooded    0.091191     spanish"
      ]
     },
     "execution_count": 84,
     "metadata": {},
     "output_type": "execute_result"
    }
   ],
   "source": [
    "results_df.loc[results_df.adjectives == 'hot-blooded'].sort_values(\"similarity\", ascending=False).head(6)"
   ]
  },
  {
   "cell_type": "code",
   "execution_count": 87,
   "metadata": {},
   "outputs": [
    {
     "data": {
      "text/html": [
       "<div>\n",
       "<style scoped>\n",
       "    .dataframe tbody tr th:only-of-type {\n",
       "        vertical-align: middle;\n",
       "    }\n",
       "\n",
       "    .dataframe tbody tr th {\n",
       "        vertical-align: top;\n",
       "    }\n",
       "\n",
       "    .dataframe thead th {\n",
       "        text-align: right;\n",
       "    }\n",
       "</style>\n",
       "<table border=\"1\" class=\"dataframe\">\n",
       "  <thead>\n",
       "    <tr style=\"text-align: right;\">\n",
       "      <th></th>\n",
       "      <th>nationality_country</th>\n",
       "      <th>stereotype</th>\n",
       "      <th>adjectives</th>\n",
       "      <th>similarity</th>\n",
       "      <th>nationality</th>\n",
       "    </tr>\n",
       "  </thead>\n",
       "  <tbody>\n",
       "    <tr>\n",
       "      <td>61</td>\n",
       "      <td>british</td>\n",
       "      <td>drunken</td>\n",
       "      <td>boozer</td>\n",
       "      <td>0.277284</td>\n",
       "      <td>british</td>\n",
       "    </tr>\n",
       "    <tr>\n",
       "      <td>60</td>\n",
       "      <td>britain</td>\n",
       "      <td>drunken</td>\n",
       "      <td>boozer</td>\n",
       "      <td>0.230763</td>\n",
       "      <td>british</td>\n",
       "    </tr>\n",
       "    <tr>\n",
       "      <td>292</td>\n",
       "      <td>spain</td>\n",
       "      <td>drunken</td>\n",
       "      <td>boozer</td>\n",
       "      <td>0.196411</td>\n",
       "      <td>spanish</td>\n",
       "    </tr>\n",
       "    <tr>\n",
       "      <td>525</td>\n",
       "      <td>german</td>\n",
       "      <td>drunken</td>\n",
       "      <td>boozer</td>\n",
       "      <td>0.170544</td>\n",
       "      <td>german</td>\n",
       "    </tr>\n",
       "    <tr>\n",
       "      <td>640</td>\n",
       "      <td>poland</td>\n",
       "      <td>drunken</td>\n",
       "      <td>boozer</td>\n",
       "      <td>0.151996</td>\n",
       "      <td>polish</td>\n",
       "    </tr>\n",
       "    <tr>\n",
       "      <td>524</td>\n",
       "      <td>germany</td>\n",
       "      <td>drunken</td>\n",
       "      <td>boozer</td>\n",
       "      <td>0.147941</td>\n",
       "      <td>german</td>\n",
       "    </tr>\n",
       "  </tbody>\n",
       "</table>\n",
       "</div>"
      ],
      "text/plain": [
       "    nationality_country stereotype adjectives  similarity nationality\n",
       "61              british    drunken     boozer    0.277284     british\n",
       "60              britain    drunken     boozer    0.230763     british\n",
       "292               spain    drunken     boozer    0.196411     spanish\n",
       "525              german    drunken     boozer    0.170544      german\n",
       "640              poland    drunken     boozer    0.151996      polish\n",
       "524             germany    drunken     boozer    0.147941      german"
      ]
     },
     "execution_count": 87,
     "metadata": {},
     "output_type": "execute_result"
    }
   ],
   "source": [
    "results_df.loc[results_df.adjectives == 'boozer'].sort_values(\"similarity\", ascending=False).head(6)"
   ]
  },
  {
   "cell_type": "code",
   "execution_count": 88,
   "metadata": {},
   "outputs": [
    {
     "data": {
      "text/html": [
       "<div>\n",
       "<style scoped>\n",
       "    .dataframe tbody tr th:only-of-type {\n",
       "        vertical-align: middle;\n",
       "    }\n",
       "\n",
       "    .dataframe tbody tr th {\n",
       "        vertical-align: top;\n",
       "    }\n",
       "\n",
       "    .dataframe thead th {\n",
       "        text-align: right;\n",
       "    }\n",
       "</style>\n",
       "<table border=\"1\" class=\"dataframe\">\n",
       "  <thead>\n",
       "    <tr style=\"text-align: right;\">\n",
       "      <th></th>\n",
       "      <th>nationality_country</th>\n",
       "      <th>stereotype</th>\n",
       "      <th>adjectives</th>\n",
       "      <th>similarity</th>\n",
       "      <th>nationality</th>\n",
       "    </tr>\n",
       "  </thead>\n",
       "  <tbody>\n",
       "    <tr>\n",
       "      <td>419</td>\n",
       "      <td>italian</td>\n",
       "      <td>fiery</td>\n",
       "      <td>hot-blooded</td>\n",
       "      <td>0.255237</td>\n",
       "      <td>italian</td>\n",
       "    </tr>\n",
       "    <tr>\n",
       "      <td>303</td>\n",
       "      <td>spanish</td>\n",
       "      <td>fiery</td>\n",
       "      <td>hot-blooded</td>\n",
       "      <td>0.191191</td>\n",
       "      <td>spanish</td>\n",
       "    </tr>\n",
       "    <tr>\n",
       "      <td>535</td>\n",
       "      <td>german</td>\n",
       "      <td>fiery</td>\n",
       "      <td>hot-blooded</td>\n",
       "      <td>0.167770</td>\n",
       "      <td>german</td>\n",
       "    </tr>\n",
       "    <tr>\n",
       "      <td>71</td>\n",
       "      <td>british</td>\n",
       "      <td>fiery</td>\n",
       "      <td>hot-blooded</td>\n",
       "      <td>0.155020</td>\n",
       "      <td>british</td>\n",
       "    </tr>\n",
       "    <tr>\n",
       "      <td>187</td>\n",
       "      <td>french</td>\n",
       "      <td>fiery</td>\n",
       "      <td>hot-blooded</td>\n",
       "      <td>0.120711</td>\n",
       "      <td>french</td>\n",
       "    </tr>\n",
       "    <tr>\n",
       "      <td>302</td>\n",
       "      <td>spain</td>\n",
       "      <td>fiery</td>\n",
       "      <td>hot-blooded</td>\n",
       "      <td>0.091191</td>\n",
       "      <td>spanish</td>\n",
       "    </tr>\n",
       "  </tbody>\n",
       "</table>\n",
       "</div>"
      ],
      "text/plain": [
       "    nationality_country stereotype   adjectives  similarity nationality\n",
       "419             italian      fiery  hot-blooded    0.255237     italian\n",
       "303             spanish      fiery  hot-blooded    0.191191     spanish\n",
       "535              german      fiery  hot-blooded    0.167770      german\n",
       "71              british      fiery  hot-blooded    0.155020     british\n",
       "187              french      fiery  hot-blooded    0.120711      french\n",
       "302               spain      fiery  hot-blooded    0.091191     spanish"
      ]
     },
     "execution_count": 88,
     "metadata": {},
     "output_type": "execute_result"
    }
   ],
   "source": [
    "results_df.loc[results_df.adjectives == 'hot-blooded'].sort_values(\"similarity\", ascending=False).head(6)"
   ]
  },
  {
   "cell_type": "code",
   "execution_count": null,
   "metadata": {},
   "outputs": [],
   "source": [
    "results_df.loc[results_df.adjectives == 'hot-blooded'].sort_values(\"similarity\", ascending=False).head(6)"
   ]
  },
  {
   "cell_type": "code",
   "execution_count": 79,
   "metadata": {},
   "outputs": [
    {
     "name": "stdout",
     "output_type": "stream",
     "text": [
      "[['france' 'hardworking' 'diligent' -0.06224380433559418 'french']\n",
      " ['germany' 'hardworking' 'diligent' -0.04635921120643616 'german']\n",
      " ['italy' 'hardworking' 'hardworking' -0.04057459160685539 'italian']]\n",
      "[['polish' 'coward' 'coward' -0.00622806278988719 'polish']\n",
      " ['germany' 'coward' 'mouse' 0.014334741979837418 'german']\n",
      " ['italy' 'coward' 'weak' 0.02069609798491001 'italian']]\n",
      "[['poland' 'arrogant' 'presumptuous' -0.03832724690437317 'polish']\n",
      " ['poland' 'arrogant' 'imperious' -0.020478514954447746 'polish']\n",
      " ['germany' 'arrogant' 'presumptuous' -0.0031124139204621315 'german']]\n",
      "[['france' 'drunken' 'hard-drinker' -0.03897916525602341 'french']\n",
      " ['italy' 'drunken' 'hard-drinker' -0.030624929815530777 'italian']\n",
      " ['poland' 'drunken' 'hard-drinker' -0.025516599416732788 'polish']]\n",
      "[['spain' 'macho' 'manly' 0.03674953058362007 'spanish']\n",
      " ['poland' 'macho' 'manly' 0.06347531080245972 'polish']\n",
      " ['polish' 'macho' 'macho' 0.06412754952907562 'polish']]\n",
      "[['germany' 'fiery' 'fiery' -0.043775662779808044 'german']\n",
      " ['britain' 'fiery' 'hot-blooded' -0.035611700266599655 'british']\n",
      " ['poland' 'fiery' 'fiery' -0.032107800245285034 'polish']]\n",
      "[['italy' 'chauvinism' 'racist' 0.0043281386606395245 'italian']\n",
      " ['poland' 'chauvinism' 'bigotry' 0.009666234254837036 'polish']\n",
      " ['italy' 'chauvinism' 'bigotry' 0.026184726506471634 'italian']]\n",
      "[['spanish' 'lazy' 'idle' -0.015893304720520973 'spanish']\n",
      " ['polish' 'lazy' 'passive' -0.0022192790638655424 'polish']\n",
      " ['france' 'lazy' 'apathetic' 0.010476363822817802 'french']]\n",
      "[['france' 'corrupt' 'unethical' -0.038452714681625366 'french']\n",
      " ['spain' 'corrupt' 'corrupt' -0.01687527634203434 'spanish']\n",
      " ['france' 'corrupt' 'corrupt' -0.014473586343228817 'french']]\n"
     ]
    }
   ],
   "source": [
    "for stereotype in adj_columns:\n",
    "    sub_df = results_df.loc[results_df.stereotype == stereotype]\n",
    "    print(sub_df.sort_values(\"similarity\", ascending=True).head(3).values)"
   ]
  },
  {
   "cell_type": "code",
   "execution_count": 48,
   "metadata": {},
   "outputs": [
    {
     "ename": "NameError",
     "evalue": "name 'results_df' is not defined",
     "output_type": "error",
     "traceback": [
      "\u001b[0;31m---------------------------------------------------------------------------\u001b[0m",
      "\u001b[0;31mNameError\u001b[0m                                 Traceback (most recent call last)",
      "\u001b[0;32m<ipython-input-48-6377e7c22b84>\u001b[0m in \u001b[0;36m<module>\u001b[0;34m\u001b[0m\n\u001b[0;32m----> 1\u001b[0;31m \u001b[0mm\u001b[0m \u001b[0;34m=\u001b[0m \u001b[0mround\u001b[0m\u001b[0;34m(\u001b[0m\u001b[0mresults_df\u001b[0m\u001b[0;34m.\u001b[0m\u001b[0msimilarity\u001b[0m\u001b[0;34m.\u001b[0m\u001b[0mmean\u001b[0m\u001b[0;34m(\u001b[0m\u001b[0;34m)\u001b[0m\u001b[0;34m,\u001b[0m\u001b[0;36m2\u001b[0m\u001b[0;34m)\u001b[0m\u001b[0;34m\u001b[0m\u001b[0;34m\u001b[0m\u001b[0m\n\u001b[0m\u001b[1;32m      2\u001b[0m \u001b[0mstd\u001b[0m \u001b[0;34m=\u001b[0m \u001b[0mround\u001b[0m\u001b[0;34m(\u001b[0m\u001b[0mresults_df\u001b[0m\u001b[0;34m.\u001b[0m\u001b[0msimilarity\u001b[0m\u001b[0;34m.\u001b[0m\u001b[0mstd\u001b[0m\u001b[0;34m(\u001b[0m\u001b[0;34m)\u001b[0m\u001b[0;34m,\u001b[0m \u001b[0;36m2\u001b[0m\u001b[0;34m)\u001b[0m\u001b[0;34m\u001b[0m\u001b[0;34m\u001b[0m\u001b[0m\n\u001b[1;32m      3\u001b[0m \u001b[0mplt\u001b[0m\u001b[0;34m.\u001b[0m\u001b[0mfigure\u001b[0m\u001b[0;34m(\u001b[0m\u001b[0;34m)\u001b[0m\u001b[0;34m\u001b[0m\u001b[0;34m\u001b[0m\u001b[0m\n\u001b[1;32m      4\u001b[0m \u001b[0msns\u001b[0m\u001b[0;34m.\u001b[0m\u001b[0mdistplot\u001b[0m\u001b[0;34m(\u001b[0m\u001b[0mresults_df\u001b[0m\u001b[0;34m.\u001b[0m\u001b[0msimilarity\u001b[0m\u001b[0;34m)\u001b[0m\u001b[0;34m\u001b[0m\u001b[0;34m\u001b[0m\u001b[0m\n\u001b[1;32m      5\u001b[0m \u001b[0mplt\u001b[0m\u001b[0;34m.\u001b[0m\u001b[0mtext\u001b[0m\u001b[0;34m(\u001b[0m\u001b[0ms\u001b[0m \u001b[0;34m=\u001b[0m \u001b[0;34m'mean = {} \\n std = {}'\u001b[0m\u001b[0;34m.\u001b[0m\u001b[0mformat\u001b[0m\u001b[0;34m(\u001b[0m\u001b[0mm\u001b[0m\u001b[0;34m,\u001b[0m \u001b[0mstd\u001b[0m\u001b[0;34m)\u001b[0m\u001b[0;34m,\u001b[0m\u001b[0mx\u001b[0m \u001b[0;34m=\u001b[0m \u001b[0;36m0.25\u001b[0m\u001b[0;34m,\u001b[0m \u001b[0my\u001b[0m \u001b[0;34m=\u001b[0m \u001b[0;36m7\u001b[0m\u001b[0;34m)\u001b[0m\u001b[0;34m\u001b[0m\u001b[0;34m\u001b[0m\u001b[0m\n",
      "\u001b[0;31mNameError\u001b[0m: name 'results_df' is not defined"
     ]
    }
   ],
   "source": [
    "m = round(results_df.similarity.mean(),2)\n",
    "std = round(results_df.similarity.std(), 2)\n",
    "plt.figure()\n",
    "sns.distplot(results_df.similarity)\n",
    "plt.text(s = 'mean = {} \\n std = {}'.format(m, std),x = 0.25, y = 7)\n",
    "plt.show()"
   ]
  },
  {
   "cell_type": "code",
   "execution_count": 76,
   "metadata": {},
   "outputs": [
    {
     "data": {
      "image/png": "[encoded data removed]",
      "text/plain": [
       "<Figure size 1008x288 with 2 Axes>"
      ]
     },
     "metadata": {
      "needs_background": "light"
     },
     "output_type": "display_data"
    }
   ],
   "source": [
    "f, (ax1, ax2) = plt.subplots(nrows=1, ncols=2, figsize=(14,4))\n",
    "sub_df1 = results_df.loc[results_df.nationality_country.isin(nationalities[:,0])]\n",
    "sub_df2 = results_df.loc[results_df.nationality_country.isin(nationalities[:,1])]\n",
    "m1, m2 = round(sub_df1.similarity.mean(),2),  round(sub_df2.similarity.mean(),2)\n",
    "std1, std2 = round(sub_df1.similarity.std(), 2), round(sub_df2.similarity.std(), 2)\n",
    "sns.distplot(sub_df1.similarity, ax=ax1)\n",
    "ax1.text(s = 'mean = {} \\n std = {}'.format(m1, std1),x = 0.25, y = 6)\n",
    "sns.distplot(sub_df2.similarity, ax=ax2)\n",
    "ax2.text(s = 'mean = {} \\n std = {}'.format(m2, std2),x = 0.25, y = 6)\n",
    "ax1.set_title(\"Country similarities\")\n",
    "ax2.set_title(\"Nationality similarities\")\n",
    "plt.show()"
   ]
  },
  {
   "cell_type": "code",
   "execution_count": 90,
   "metadata": {},
   "outputs": [
    {
     "name": "stdout",
     "output_type": "stream",
     "text": [
      "hardworking 0.4254187\n",
      "coward 0.38184384\n",
      "arrogant 0.625309\n",
      "drunken 0.3907947\n",
      "macho 0.7691483\n",
      "fiery 0.52401084\n",
      "chauvinism 0.52933604\n",
      "lazy 0.41032305\n",
      "corrupt 0.514372\n"
     ]
    },
    {
     "data": {
      "image/png": "[encoded data removed]",
      "text/plain": [
       "<Figure size 1584x1152 with 9 Axes>"
      ]
     },
     "metadata": {
      "needs_background": "light"
     },
     "output_type": "display_data"
    }
   ],
   "source": [
    "f, axes = plt.subplots(nrows=3, ncols=3, figsize=(22,16), sharey=True)\n",
    "axes = axes.flatten()\n",
    "for i, adj in enumerate(adj_columns):\n",
    "\n",
    "    sim_with_og = []\n",
    "    adj_list = adjectives[adj].dropna().values\n",
    "    for sub_adj in adj_list[1:]:\n",
    "        sim_with_og.append(wv.similarity(adj,sub_adj))\n",
    "        \n",
    "    print(adj, np.mean(sim_with_og))\n",
    "    sns_df = pd.DataFrame(np.array([adj_list[1:], sim_with_og]).T,\n",
    "                          columns=['adjectives', 'similarities'])\n",
    "    sns.barplot(x=\"adjectives\", y =\"similarities\", data=sns_df, ax = axes[i])\n",
    "    axes[i].set_xticklabels(labels = adj_list[1:], rotation=45)\n",
    "    axes[i].set_title(adj)\n",
    "    axes[i].set_xlabel(\"\")\n",
    "plt.show()"
   ]
  },
  {
   "cell_type": "code",
   "execution_count": 132,
   "metadata": {},
   "outputs": [],
   "source": [
    "crime_results = []\n",
    "for nat_arr in nationalities:\n",
    "    n, _, adj_arr, distances = nationality_distance(wv, nat_arr, crime_words)\n",
    "    crime_results.append([n, adj_arr, distances])\n",
    "crime_results = np.array(crime_results)\n",
    "    \n",
    "matrix_results = np.zeros((len(crime_words) * len(nationalities), 3), dtype=object)\n",
    "for k in range(len(nationalities)):\n",
    "    i = k * len(crime_words)\n",
    "    matrix_results[i:(i+len(crime_words)),0] = nationalities[k,1]\n",
    "    matrix_results[i:(i+len(crime_words)),1] = crime_words\n",
    "    matrix_results[i:(i+len(crime_words)),2] = crime_results[k, 2]\n",
    "    \n",
    "crime_df = pd.DataFrame(data=matrix_results, columns=['nationality', 'crime_word', 'distance'])"
   ]
  },
  {
   "cell_type": "code",
   "execution_count": 134,
   "metadata": {},
   "outputs": [
    {
     "data": {
      "text/plain": [
       "<matplotlib.axes._subplots.AxesSubplot at 0x7f529d2a6e10>"
      ]
     },
     "execution_count": 134,
     "metadata": {},
     "output_type": "execute_result"
    },
    {
     "data": {
      "image/png": "[encoded data removed]",
      "text/plain": [
       "<Figure size 432x288 with 1 Axes>"
      ]
     },
     "metadata": {
      "needs_background": "light"
     },
     "output_type": "display_data"
    }
   ],
   "source": [
    "sns.boxplot(x=\"nationality\", y=\"distance\", data=crime_df)"
   ]
  },
  {
   "cell_type": "code",
   "execution_count": 25,
   "metadata": {},
   "outputs": [],
   "source": [
    "with open('data/traits_words.txt') as f:\n",
    "    lines = f.readlines()\n",
    "    adj_list = [adj.strip() for adj in lines]"
   ]
  },
  {
   "cell_type": "code",
   "execution_count": 16,
   "metadata": {},
   "outputs": [
    {
     "data": {
      "text/html": [
       "<div>\n",
       "<style scoped>\n",
       "    .dataframe tbody tr th:only-of-type {\n",
       "        vertical-align: middle;\n",
       "    }\n",
       "\n",
       "    .dataframe tbody tr th {\n",
       "        vertical-align: top;\n",
       "    }\n",
       "\n",
       "    .dataframe thead th {\n",
       "        text-align: right;\n",
       "    }\n",
       "</style>\n",
       "<table border=\"1\" class=\"dataframe\">\n",
       "  <thead>\n",
       "    <tr style=\"text-align: right;\">\n",
       "      <th></th>\n",
       "      <th>adjective</th>\n",
       "      <th>similarity</th>\n",
       "    </tr>\n",
       "  </thead>\n",
       "  <tbody>\n",
       "    <tr>\n",
       "      <td>253</td>\n",
       "      <td>Conservative</td>\n",
       "      <td>0.26200032</td>\n",
       "    </tr>\n",
       "    <tr>\n",
       "      <td>290</td>\n",
       "      <td>Modern</td>\n",
       "      <td>0.20431912</td>\n",
       "    </tr>\n",
       "    <tr>\n",
       "      <td>116</td>\n",
       "      <td>Liberal</td>\n",
       "      <td>0.20416202</td>\n",
       "    </tr>\n",
       "  </tbody>\n",
       "</table>\n",
       "</div>"
      ],
      "text/plain": [
       "        adjective  similarity\n",
       "253  Conservative  0.26200032\n",
       "290        Modern  0.20431912\n",
       "116       Liberal  0.20416202"
      ]
     },
     "execution_count": 16,
     "metadata": {},
     "output_type": "execute_result"
    }
   ],
   "source": [
    "british_adj_df = pd.DataFrame(data = np.array([adj_list, cosine_similarities('british', adj_list)]).T,\n",
    "                              columns=['adjective','similarity'])\n",
    "british_adj_df.sort_values('similarity', ascending=False).head(3)"
   ]
  },
  {
   "cell_type": "code",
   "execution_count": 17,
   "metadata": {},
   "outputs": [
    {
     "data": {
      "text/html": [
       "<div>\n",
       "<style scoped>\n",
       "    .dataframe tbody tr th:only-of-type {\n",
       "        vertical-align: middle;\n",
       "    }\n",
       "\n",
       "    .dataframe tbody tr th {\n",
       "        vertical-align: top;\n",
       "    }\n",
       "\n",
       "    .dataframe thead th {\n",
       "        text-align: right;\n",
       "    }\n",
       "</style>\n",
       "<table border=\"1\" class=\"dataframe\">\n",
       "  <thead>\n",
       "    <tr style=\"text-align: right;\">\n",
       "      <th></th>\n",
       "      <th>adjective</th>\n",
       "      <th>similarity</th>\n",
       "    </tr>\n",
       "  </thead>\n",
       "  <tbody>\n",
       "    <tr>\n",
       "      <td>546</td>\n",
       "      <td>Pretentious</td>\n",
       "      <td>0.22497089</td>\n",
       "    </tr>\n",
       "    <tr>\n",
       "      <td>134</td>\n",
       "      <td>Open</td>\n",
       "      <td>0.19603342</td>\n",
       "    </tr>\n",
       "    <tr>\n",
       "      <td>24</td>\n",
       "      <td>Charming</td>\n",
       "      <td>0.19299431</td>\n",
       "    </tr>\n",
       "  </tbody>\n",
       "</table>\n",
       "</div>"
      ],
      "text/plain": [
       "       adjective  similarity\n",
       "546  Pretentious  0.22497089\n",
       "134         Open  0.19603342\n",
       "24      Charming  0.19299431"
      ]
     },
     "execution_count": 17,
     "metadata": {},
     "output_type": "execute_result"
    }
   ],
   "source": [
    "british_adj_df = pd.DataFrame(data = np.array([adj_list, cosine_similarities('french', adj_list)]).T,\n",
    "                              columns=['adjective','similarity'])\n",
    "british_adj_df.sort_values('similarity', ascending=False).head(3)"
   ]
  },
  {
   "cell_type": "code",
   "execution_count": 18,
   "metadata": {},
   "outputs": [
    {
     "data": {
      "text/html": [
       "<div>\n",
       "<style scoped>\n",
       "    .dataframe tbody tr th:only-of-type {\n",
       "        vertical-align: middle;\n",
       "    }\n",
       "\n",
       "    .dataframe tbody tr th {\n",
       "        vertical-align: top;\n",
       "    }\n",
       "\n",
       "    .dataframe thead th {\n",
       "        text-align: right;\n",
       "    }\n",
       "</style>\n",
       "<table border=\"1\" class=\"dataframe\">\n",
       "  <thead>\n",
       "    <tr style=\"text-align: right;\">\n",
       "      <th></th>\n",
       "      <th>adjective</th>\n",
       "      <th>similarity</th>\n",
       "    </tr>\n",
       "  </thead>\n",
       "  <tbody>\n",
       "    <tr>\n",
       "      <td>173</td>\n",
       "      <td>Rustic</td>\n",
       "      <td>0.22070913</td>\n",
       "    </tr>\n",
       "    <tr>\n",
       "      <td>274</td>\n",
       "      <td>Glamorous</td>\n",
       "      <td>0.21438064</td>\n",
       "    </tr>\n",
       "    <tr>\n",
       "      <td>172</td>\n",
       "      <td>Romantic</td>\n",
       "      <td>0.21192041</td>\n",
       "    </tr>\n",
       "  </tbody>\n",
       "</table>\n",
       "</div>"
      ],
      "text/plain": [
       "     adjective  similarity\n",
       "173     Rustic  0.22070913\n",
       "274  Glamorous  0.21438064\n",
       "172   Romantic  0.21192041"
      ]
     },
     "execution_count": 18,
     "metadata": {},
     "output_type": "execute_result"
    }
   ],
   "source": [
    "british_adj_df = pd.DataFrame(data = np.array([adj_list, cosine_similarities('italian', adj_list)]).T,\n",
    "                              columns=['adjective','similarity'])\n",
    "british_adj_df.sort_values('similarity', ascending=False).head(3)"
   ]
  },
  {
   "cell_type": "code",
   "execution_count": 19,
   "metadata": {},
   "outputs": [
    {
     "data": {
      "text/html": [
       "<div>\n",
       "<style scoped>\n",
       "    .dataframe tbody tr th:only-of-type {\n",
       "        vertical-align: middle;\n",
       "    }\n",
       "\n",
       "    .dataframe tbody tr th {\n",
       "        vertical-align: top;\n",
       "    }\n",
       "\n",
       "    .dataframe thead th {\n",
       "        text-align: right;\n",
       "    }\n",
       "</style>\n",
       "<table border=\"1\" class=\"dataframe\">\n",
       "  <thead>\n",
       "    <tr style=\"text-align: right;\">\n",
       "      <th></th>\n",
       "      <th>adjective</th>\n",
       "      <th>similarity</th>\n",
       "    </tr>\n",
       "  </thead>\n",
       "  <tbody>\n",
       "    <tr>\n",
       "      <td>589</td>\n",
       "      <td>Submissive</td>\n",
       "      <td>0.21026352</td>\n",
       "    </tr>\n",
       "    <tr>\n",
       "      <td>124</td>\n",
       "      <td>Mature</td>\n",
       "      <td>0.20656325</td>\n",
       "    </tr>\n",
       "    <tr>\n",
       "      <td>519</td>\n",
       "      <td>Nihilistic</td>\n",
       "      <td>0.19159243</td>\n",
       "    </tr>\n",
       "  </tbody>\n",
       "</table>\n",
       "</div>"
      ],
      "text/plain": [
       "      adjective  similarity\n",
       "589  Submissive  0.21026352\n",
       "124      Mature  0.20656325\n",
       "519  Nihilistic  0.19159243"
      ]
     },
     "execution_count": 19,
     "metadata": {},
     "output_type": "execute_result"
    }
   ],
   "source": [
    "british_adj_df = pd.DataFrame(data = np.array([adj_list, cosine_similarities('german', adj_list)]).T,\n",
    "                              columns=['adjective','similarity'])\n",
    "british_adj_df.sort_values('similarity', ascending=False).head(3)"
   ]
  },
  {
   "cell_type": "code",
   "execution_count": 20,
   "metadata": {},
   "outputs": [
    {
     "data": {
      "text/html": [
       "<div>\n",
       "<style scoped>\n",
       "    .dataframe tbody tr th:only-of-type {\n",
       "        vertical-align: middle;\n",
       "    }\n",
       "\n",
       "    .dataframe tbody tr th {\n",
       "        vertical-align: top;\n",
       "    }\n",
       "\n",
       "    .dataframe thead th {\n",
       "        text-align: right;\n",
       "    }\n",
       "</style>\n",
       "<table border=\"1\" class=\"dataframe\">\n",
       "  <thead>\n",
       "    <tr style=\"text-align: right;\">\n",
       "      <th></th>\n",
       "      <th>adjective</th>\n",
       "      <th>similarity</th>\n",
       "    </tr>\n",
       "  </thead>\n",
       "  <tbody>\n",
       "    <tr>\n",
       "      <td>107</td>\n",
       "      <td>Insightful</td>\n",
       "      <td>4.7961978e-05</td>\n",
       "    </tr>\n",
       "    <tr>\n",
       "      <td>618</td>\n",
       "      <td>Unpolished</td>\n",
       "      <td>0.36715496</td>\n",
       "    </tr>\n",
       "    <tr>\n",
       "      <td>150</td>\n",
       "      <td>Polished</td>\n",
       "      <td>0.31372303</td>\n",
       "    </tr>\n",
       "  </tbody>\n",
       "</table>\n",
       "</div>"
      ],
      "text/plain": [
       "      adjective     similarity\n",
       "107  Insightful  4.7961978e-05\n",
       "618  Unpolished     0.36715496\n",
       "150    Polished     0.31372303"
      ]
     },
     "execution_count": 20,
     "metadata": {},
     "output_type": "execute_result"
    }
   ],
   "source": [
    "british_adj_df = pd.DataFrame(data = np.array([adj_list, cosine_similarities('polish', adj_list)]).T,\n",
    "                              columns=['adjective','similarity'])\n",
    "british_adj_df.sort_values('similarity', ascending=False).head(3)"
   ]
  },
  {
   "cell_type": "code",
   "execution_count": 21,
   "metadata": {},
   "outputs": [
    {
     "data": {
      "text/html": [
       "<div>\n",
       "<style scoped>\n",
       "    .dataframe tbody tr th:only-of-type {\n",
       "        vertical-align: middle;\n",
       "    }\n",
       "\n",
       "    .dataframe tbody tr th {\n",
       "        vertical-align: top;\n",
       "    }\n",
       "\n",
       "    .dataframe thead th {\n",
       "        text-align: right;\n",
       "    }\n",
       "</style>\n",
       "<table border=\"1\" class=\"dataframe\">\n",
       "  <thead>\n",
       "    <tr style=\"text-align: right;\">\n",
       "      <th></th>\n",
       "      <th>adjective</th>\n",
       "      <th>similarity</th>\n",
       "    </tr>\n",
       "  </thead>\n",
       "  <tbody>\n",
       "    <tr>\n",
       "      <td>265</td>\n",
       "      <td>Effeminate</td>\n",
       "      <td>0.16348356</td>\n",
       "    </tr>\n",
       "    <tr>\n",
       "      <td>189</td>\n",
       "      <td>Sexy</td>\n",
       "      <td>0.16051853</td>\n",
       "    </tr>\n",
       "    <tr>\n",
       "      <td>499</td>\n",
       "      <td>Melancholic</td>\n",
       "      <td>0.15601555</td>\n",
       "    </tr>\n",
       "  </tbody>\n",
       "</table>\n",
       "</div>"
      ],
      "text/plain": [
       "       adjective  similarity\n",
       "265   Effeminate  0.16348356\n",
       "189         Sexy  0.16051853\n",
       "499  Melancholic  0.15601555"
      ]
     },
     "execution_count": 21,
     "metadata": {},
     "output_type": "execute_result"
    }
   ],
   "source": [
    "british_adj_df = pd.DataFrame(data = np.array([adj_list, cosine_similarities('spanish', adj_list)]).T,\n",
    "                              columns=['adjective','similarity'])\n",
    "british_adj_df.sort_values('similarity', ascending=False).head(3)"
   ]
  },
  {
   "cell_type": "markdown",
   "metadata": {},
   "source": [
    "## French"
   ]
  },
  {
   "cell_type": "code",
   "execution_count": 11,
   "metadata": {},
   "outputs": [],
   "source": [
    "def cosine_similarities(word1, words_all):\n",
    "    w1 = wv.get_vector(word1)\n",
    "    vectors_all = [wv.get_vector(word) for word in words_all]\n",
    "    try:\n",
    "        res =  wv.cosine_similarities(w1, vectors_all)\n",
    "    except:\n",
    "        res=[]\n",
    "        for v in vectors_all:\n",
    "            try:\n",
    "                res.append(wv.similarity(w1,v))\n",
    "            except:\n",
    "                continue\n",
    "    return res"
   ]
  },
  {
   "cell_type": "code",
   "execution_count": 5,
   "metadata": {
    "scrolled": true
   },
   "outputs": [],
   "source": [
    "from gensim.test.utils import datapath\n",
    "from gensim.models import fasttext as ft\n",
    "\n",
    "cap_path = datapath(\"/home/samuel_argouet/datascience/cc.fr.300.bin\")\n",
    "# class  gensim.models.keyedvectors.FastTextKeyedVectors\n",
    "wv = ft.load_facebook_vectors(cap_path)"
   ]
  },
  {
   "cell_type": "code",
   "execution_count": 42,
   "metadata": {},
   "outputs": [],
   "source": [
    "with open('data/traits_words_fr.txt') as f:\n",
    "    lines = f.readlines()\n",
    "    adj_list_fr = []\n",
    "    for w in lines:\n",
    "        w = w.strip()\n",
    "        if \" \" in w:\n",
    "            adj_list_fr.append(np.nan)\n",
    "        else:\n",
    "            adj_list_fr.append(w)"
   ]
  },
  {
   "cell_type": "code",
   "execution_count": 43,
   "metadata": {},
   "outputs": [
    {
     "data": {
      "text/html": [
       "<div>\n",
       "<style scoped>\n",
       "    .dataframe tbody tr th:only-of-type {\n",
       "        vertical-align: middle;\n",
       "    }\n",
       "\n",
       "    .dataframe tbody tr th {\n",
       "        vertical-align: top;\n",
       "    }\n",
       "\n",
       "    .dataframe thead th {\n",
       "        text-align: right;\n",
       "    }\n",
       "</style>\n",
       "<table border=\"1\" class=\"dataframe\">\n",
       "  <thead>\n",
       "    <tr style=\"text-align: right;\">\n",
       "      <th></th>\n",
       "      <th>adjective_en</th>\n",
       "      <th>adjective</th>\n",
       "      <th>similarity</th>\n",
       "    </tr>\n",
       "  </thead>\n",
       "  <tbody>\n",
       "    <tr>\n",
       "      <td>547</td>\n",
       "      <td>Prim</td>\n",
       "      <td>guindé</td>\n",
       "      <td>0.32696408</td>\n",
       "    </tr>\n",
       "    <tr>\n",
       "      <td>469</td>\n",
       "      <td>Imitative</td>\n",
       "      <td>Imitatif</td>\n",
       "      <td>0.31307256</td>\n",
       "    </tr>\n",
       "    <tr>\n",
       "      <td>141</td>\n",
       "      <td>Patient</td>\n",
       "      <td>Patient</td>\n",
       "      <td>0.30303088</td>\n",
       "    </tr>\n",
       "    <tr>\n",
       "      <td>138</td>\n",
       "      <td>Original</td>\n",
       "      <td>Original</td>\n",
       "      <td>0.2908474</td>\n",
       "    </tr>\n",
       "    <tr>\n",
       "      <td>510</td>\n",
       "      <td>Muddle-headed</td>\n",
       "      <td>Écervelé</td>\n",
       "      <td>0.2789962</td>\n",
       "    </tr>\n",
       "  </tbody>\n",
       "</table>\n",
       "</div>"
      ],
      "text/plain": [
       "      adjective_en adjective  similarity\n",
       "547           Prim    guindé  0.32696408\n",
       "469      Imitative  Imitatif  0.31307256\n",
       "141        Patient   Patient  0.30303088\n",
       "138       Original  Original   0.2908474\n",
       "510  Muddle-headed  Écervelé   0.2789962"
      ]
     },
     "execution_count": 43,
     "metadata": {},
     "output_type": "execute_result"
    }
   ],
   "source": [
    "british_adj_df = pd.DataFrame(data = np.array([adj_list, adj_list_fr, cosine_similarities('anglais', adj_list_fr)]).T,\n",
    "                              columns=['adjective_en','adjective','similarity'])\n",
    "british_adj_df.sort_values('similarity', ascending=False).head(5)"
   ]
  },
  {
   "cell_type": "code",
   "execution_count": 44,
   "metadata": {},
   "outputs": [
    {
     "data": {
      "text/html": [
       "<div>\n",
       "<style scoped>\n",
       "    .dataframe tbody tr th:only-of-type {\n",
       "        vertical-align: middle;\n",
       "    }\n",
       "\n",
       "    .dataframe tbody tr th {\n",
       "        vertical-align: top;\n",
       "    }\n",
       "\n",
       "    .dataframe thead th {\n",
       "        text-align: right;\n",
       "    }\n",
       "</style>\n",
       "<table border=\"1\" class=\"dataframe\">\n",
       "  <thead>\n",
       "    <tr style=\"text-align: right;\">\n",
       "      <th></th>\n",
       "      <th>adjective_en</th>\n",
       "      <th>adjective</th>\n",
       "      <th>similarity</th>\n",
       "    </tr>\n",
       "  </thead>\n",
       "  <tbody>\n",
       "    <tr>\n",
       "      <td>286</td>\n",
       "      <td>Irreligious</td>\n",
       "      <td>Irréligieux</td>\n",
       "      <td>0.36512095</td>\n",
       "    </tr>\n",
       "    <tr>\n",
       "      <td>299</td>\n",
       "      <td>Outspoken</td>\n",
       "      <td>Franc</td>\n",
       "      <td>0.33425176</td>\n",
       "    </tr>\n",
       "    <tr>\n",
       "      <td>78</td>\n",
       "      <td>Forthright</td>\n",
       "      <td>Franc</td>\n",
       "      <td>0.33425176</td>\n",
       "    </tr>\n",
       "    <tr>\n",
       "      <td>269</td>\n",
       "      <td>Familial</td>\n",
       "      <td>familial</td>\n",
       "      <td>0.33064085</td>\n",
       "    </tr>\n",
       "    <tr>\n",
       "      <td>636</td>\n",
       "      <td>Wishful</td>\n",
       "      <td>désireux</td>\n",
       "      <td>0.32962382</td>\n",
       "    </tr>\n",
       "  </tbody>\n",
       "</table>\n",
       "</div>"
      ],
      "text/plain": [
       "    adjective_en    adjective  similarity\n",
       "286  Irreligious  Irréligieux  0.36512095\n",
       "299    Outspoken        Franc  0.33425176\n",
       "78    Forthright        Franc  0.33425176\n",
       "269     Familial     familial  0.33064085\n",
       "636      Wishful     désireux  0.32962382"
      ]
     },
     "execution_count": 44,
     "metadata": {},
     "output_type": "execute_result"
    }
   ],
   "source": [
    "british_adj_df = pd.DataFrame(data = np.array([adj_list, adj_list_fr, cosine_similarities('français', adj_list_fr)]).T,\n",
    "                              columns=['adjective_en', 'adjective','similarity'])\n",
    "british_adj_df.sort_values('similarity', ascending=False).head(5)"
   ]
  },
  {
   "cell_type": "code",
   "execution_count": 45,
   "metadata": {},
   "outputs": [
    {
     "data": {
      "text/html": [
       "<div>\n",
       "<style scoped>\n",
       "    .dataframe tbody tr th:only-of-type {\n",
       "        vertical-align: middle;\n",
       "    }\n",
       "\n",
       "    .dataframe tbody tr th {\n",
       "        vertical-align: top;\n",
       "    }\n",
       "\n",
       "    .dataframe thead th {\n",
       "        text-align: right;\n",
       "    }\n",
       "</style>\n",
       "<table border=\"1\" class=\"dataframe\">\n",
       "  <thead>\n",
       "    <tr style=\"text-align: right;\">\n",
       "      <th></th>\n",
       "      <th>adjective_en</th>\n",
       "      <th>adjective</th>\n",
       "      <th>similarity</th>\n",
       "    </tr>\n",
       "  </thead>\n",
       "  <tbody>\n",
       "    <tr>\n",
       "      <td>45</td>\n",
       "      <td>Debonair</td>\n",
       "      <td>raffiné</td>\n",
       "      <td>0.3533787</td>\n",
       "    </tr>\n",
       "    <tr>\n",
       "      <td>269</td>\n",
       "      <td>Familial</td>\n",
       "      <td>familial</td>\n",
       "      <td>0.32580832</td>\n",
       "    </tr>\n",
       "    <tr>\n",
       "      <td>387</td>\n",
       "      <td>Conformist</td>\n",
       "      <td>Conformiste</td>\n",
       "      <td>0.32169327</td>\n",
       "    </tr>\n",
       "    <tr>\n",
       "      <td>469</td>\n",
       "      <td>Imitative</td>\n",
       "      <td>Imitatif</td>\n",
       "      <td>0.32120982</td>\n",
       "    </tr>\n",
       "    <tr>\n",
       "      <td>538</td>\n",
       "      <td>Phlegmatic</td>\n",
       "      <td>Flegmatique</td>\n",
       "      <td>0.31106678</td>\n",
       "    </tr>\n",
       "  </tbody>\n",
       "</table>\n",
       "</div>"
      ],
      "text/plain": [
       "    adjective_en    adjective  similarity\n",
       "45      Debonair      raffiné   0.3533787\n",
       "269     Familial     familial  0.32580832\n",
       "387   Conformist  Conformiste  0.32169327\n",
       "469    Imitative     Imitatif  0.32120982\n",
       "538   Phlegmatic  Flegmatique  0.31106678"
      ]
     },
     "execution_count": 45,
     "metadata": {},
     "output_type": "execute_result"
    }
   ],
   "source": [
    "british_adj_df = pd.DataFrame(data = np.array([adj_list, adj_list_fr, cosine_similarities('italien', adj_list_fr)]).T,\n",
    "                              columns=['adjective_en','adjective','similarity'])\n",
    "british_adj_df.sort_values('similarity', ascending=False).head(5)"
   ]
  },
  {
   "cell_type": "code",
   "execution_count": 46,
   "metadata": {},
   "outputs": [
    {
     "data": {
      "text/html": [
       "<div>\n",
       "<style scoped>\n",
       "    .dataframe tbody tr th:only-of-type {\n",
       "        vertical-align: middle;\n",
       "    }\n",
       "\n",
       "    .dataframe tbody tr th {\n",
       "        vertical-align: top;\n",
       "    }\n",
       "\n",
       "    .dataframe thead th {\n",
       "        text-align: right;\n",
       "    }\n",
       "</style>\n",
       "<table border=\"1\" class=\"dataframe\">\n",
       "  <thead>\n",
       "    <tr style=\"text-align: right;\">\n",
       "      <th></th>\n",
       "      <th>adjective_en</th>\n",
       "      <th>adjective</th>\n",
       "      <th>similarity</th>\n",
       "    </tr>\n",
       "  </thead>\n",
       "  <tbody>\n",
       "    <tr>\n",
       "      <td>469</td>\n",
       "      <td>Imitative</td>\n",
       "      <td>Imitatif</td>\n",
       "      <td>0.28462732</td>\n",
       "    </tr>\n",
       "    <tr>\n",
       "      <td>269</td>\n",
       "      <td>Familial</td>\n",
       "      <td>familial</td>\n",
       "      <td>0.28282174</td>\n",
       "    </tr>\n",
       "    <tr>\n",
       "      <td>344</td>\n",
       "      <td>Unsentimental</td>\n",
       "      <td>unsentimental</td>\n",
       "      <td>0.2805567</td>\n",
       "    </tr>\n",
       "    <tr>\n",
       "      <td>78</td>\n",
       "      <td>Forthright</td>\n",
       "      <td>Franc</td>\n",
       "      <td>0.2755863</td>\n",
       "    </tr>\n",
       "    <tr>\n",
       "      <td>299</td>\n",
       "      <td>Outspoken</td>\n",
       "      <td>Franc</td>\n",
       "      <td>0.2755863</td>\n",
       "    </tr>\n",
       "  </tbody>\n",
       "</table>\n",
       "</div>"
      ],
      "text/plain": [
       "      adjective_en      adjective  similarity\n",
       "469      Imitative       Imitatif  0.28462732\n",
       "269       Familial       familial  0.28282174\n",
       "344  Unsentimental  unsentimental   0.2805567\n",
       "78      Forthright          Franc   0.2755863\n",
       "299      Outspoken          Franc   0.2755863"
      ]
     },
     "execution_count": 46,
     "metadata": {},
     "output_type": "execute_result"
    }
   ],
   "source": [
    "british_adj_df = pd.DataFrame(data = np.array([adj_list, adj_list_fr, cosine_similarities('allemand', adj_list_fr)]).T,\n",
    "                              columns=['adjective_en','adjective','similarity'])\n",
    "british_adj_df.sort_values('similarity', ascending=False).head(5)"
   ]
  },
  {
   "cell_type": "code",
   "execution_count": 47,
   "metadata": {},
   "outputs": [
    {
     "data": {
      "text/html": [
       "<div>\n",
       "<style scoped>\n",
       "    .dataframe tbody tr th:only-of-type {\n",
       "        vertical-align: middle;\n",
       "    }\n",
       "\n",
       "    .dataframe tbody tr th {\n",
       "        vertical-align: top;\n",
       "    }\n",
       "\n",
       "    .dataframe thead th {\n",
       "        text-align: right;\n",
       "    }\n",
       "</style>\n",
       "<table border=\"1\" class=\"dataframe\">\n",
       "  <thead>\n",
       "    <tr style=\"text-align: right;\">\n",
       "      <th></th>\n",
       "      <th>adjective_en</th>\n",
       "      <th>adjective</th>\n",
       "      <th>similarity</th>\n",
       "    </tr>\n",
       "  </thead>\n",
       "  <tbody>\n",
       "    <tr>\n",
       "      <td>469</td>\n",
       "      <td>Imitative</td>\n",
       "      <td>Imitatif</td>\n",
       "      <td>0.3015182</td>\n",
       "    </tr>\n",
       "    <tr>\n",
       "      <td>344</td>\n",
       "      <td>Unsentimental</td>\n",
       "      <td>unsentimental</td>\n",
       "      <td>0.26839292</td>\n",
       "    </tr>\n",
       "    <tr>\n",
       "      <td>567</td>\n",
       "      <td>Sanctimonious</td>\n",
       "      <td>Moralisateur</td>\n",
       "      <td>0.26697388</td>\n",
       "    </tr>\n",
       "    <tr>\n",
       "      <td>103</td>\n",
       "      <td>Independent</td>\n",
       "      <td>Indépendant</td>\n",
       "      <td>0.2575085</td>\n",
       "    </tr>\n",
       "    <tr>\n",
       "      <td>286</td>\n",
       "      <td>Irreligious</td>\n",
       "      <td>Irréligieux</td>\n",
       "      <td>0.25750795</td>\n",
       "    </tr>\n",
       "  </tbody>\n",
       "</table>\n",
       "</div>"
      ],
      "text/plain": [
       "      adjective_en      adjective  similarity\n",
       "469      Imitative       Imitatif   0.3015182\n",
       "344  Unsentimental  unsentimental  0.26839292\n",
       "567  Sanctimonious   Moralisateur  0.26697388\n",
       "103    Independent    Indépendant   0.2575085\n",
       "286    Irreligious    Irréligieux  0.25750795"
      ]
     },
     "execution_count": 47,
     "metadata": {},
     "output_type": "execute_result"
    }
   ],
   "source": [
    "british_adj_df = pd.DataFrame(data = np.array([adj_list, adj_list_fr, cosine_similarities('espagnol', adj_list_fr)]).T,\n",
    "                              columns=['adjective_en','adjective','similarity'])\n",
    "british_adj_df.sort_values('similarity', ascending=False).head(5)"
   ]
  },
  {
   "cell_type": "code",
   "execution_count": null,
   "metadata": {},
   "outputs": [],
   "source": []
  }
 ],
 "metadata": {
  "kernelspec": {
   "display_name": "Python 3",
   "language": "python",
   "name": "python3"
  },
  "language_info": {
   "codemirror_mode": {
    "name": "ipython",
    "version": 3
   },
   "file_extension": ".py",
   "mimetype": "text/x-python",
   "name": "python",
   "nbconvert_exporter": "python",
   "pygments_lexer": "ipython3",
   "version": "3.7.4"
  }
 },
 "nbformat": 4,
 "nbformat_minor": 2
}
