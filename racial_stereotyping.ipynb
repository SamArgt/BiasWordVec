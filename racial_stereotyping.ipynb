{
 "cells": [
  {
   "cell_type": "code",
   "execution_count": 2,
   "metadata": {},
   "outputs": [
    {
     "name": "stderr",
     "output_type": "stream",
     "text": [
      "unable to import 'smart_open.gcs', disabling that module\n"
     ]
    }
   ],
   "source": [
    "import os\n",
    "import gensim\n",
    "from load_vectors import *\n",
    "import numpy as np\n",
    "import pandas as pd\n",
    "import matplotlib.pyplot as plt \n",
    "import seaborn as sns\n",
    "%matplotlib inline"
   ]
  },
  {
   "cell_type": "code",
   "execution_count": 2,
   "metadata": {},
   "outputs": [],
   "source": [
    "def cosine_similarity(a,b,x,y):\n",
    "    a,b,x,y = wv[a], wv[b], wv[x], wv[y]\n",
    "    denom = np.linalg.norm(a- b) * np.linalg.norm(x-y)\n",
    "    return np.dot((a-b).T, x-y) / (denom if denom != 0 else 1e-6)\n",
    "vfunc = np.vectorize(cosine_similarity)"
   ]
  },
  {
   "cell_type": "code",
   "execution_count": 5,
   "metadata": {},
   "outputs": [],
   "source": [
    "def analogy0(a,b,x, topn=10, delta = None):\n",
    "    y_res = wv.most_similar_cosmul(positive=[x,b], negative=[a], topn=1000*topn)\n",
    "    if delta is None:\n",
    "        return np.array(y_res)[:topn]\n",
    "    else:\n",
    "        return np.array([y for y in y_res if np.linalg.norm(wv[x] - wv[y]) < delta])[:topn]"
   ]
  },
  {
   "cell_type": "code",
   "execution_count": 181,
   "metadata": {},
   "outputs": [
    {
     "data": {
      "text/plain": [
       "array([['black', '1.0498697757720947'],\n",
       "       ['criminals', '1.0019508600234985'],\n",
       "       ['criminality', '0.998856246471405'],\n",
       "       ['criminial', '0.979351818561554'],\n",
       "       ['crime', '0.9603862166404724'],\n",
       "       ['white-collar', '0.9581645131111145'],\n",
       "       ['non-criminal', '0.9548527598381042'],\n",
       "       ['white-hating', '0.9515623450279236'],\n",
       "       ['thug', '0.9444579482078552'],\n",
       "       ['racist', '0.9402880668640137'],\n",
       "       ['supremacist', '0.9368630647659302'],\n",
       "       ['crimnal', '0.9360672235488892'],\n",
       "       ['non-white', '0.9357785582542419'],\n",
       "       ['non-felony', '0.9352330565452576'],\n",
       "       ['crimal', '0.9344058036804199'],\n",
       "       ['supremist', '0.9311133027076721'],\n",
       "       ['crimminal', '0.9287289381027222'],\n",
       "       ['criminal-', '0.9264217019081116'],\n",
       "       ['felon', '0.9252679944038391'],\n",
       "       ['white-', '0.9250895977020264']], dtype='<U27')"
      ]
     },
     "execution_count": 181,
     "metadata": {},
     "output_type": "execute_result"
    }
   ],
   "source": [
    "analogy0('african american', 'white', 'criminal', delta=None, topn=20)"
   ]
  },
  {
   "cell_type": "code",
   "execution_count": 122,
   "metadata": {},
   "outputs": [
    {
     "data": {
      "text/plain": [
       "array([['fugitives', '1.0703256130218506'],\n",
       "       ['slave-catchers', '1.0322755575180054'],\n",
       "       ['blacks', '1.0291696786880493'],\n",
       "       ['negroes', '0.9782311320304871'],\n",
       "       ['re-enslaved', '0.9573147296905518'],\n",
       "       ['slave-hunters', '0.9488363862037659'],\n",
       "       ['whites.The', '0.9433099627494812'],\n",
       "       ['escapees', '0.9422000050544739'],\n",
       "       ['negro', '0.9420299530029297'],\n",
       "       ['criminals', '0.9417467713356018']], dtype='<U26')"
      ]
     },
     "execution_count": 122,
     "metadata": {},
     "output_type": "execute_result"
    }
   ],
   "source": [
    "analogy0('african american', 'whites', 'fugitive', delta=None, topn=10)"
   ]
  },
  {
   "cell_type": "code",
   "execution_count": 132,
   "metadata": {},
   "outputs": [
    {
     "data": {
      "text/plain": [
       "array([['vandalism', '0.9717968702316284'],\n",
       "       ['black', '0.9682303667068481'],\n",
       "       ['vandals', '0.9377480745315552'],\n",
       "       ['white-', '0.9166638255119324'],\n",
       "       ['supremacist', '0.9141943454742432']], dtype='<U23')"
      ]
     },
     "execution_count": 132,
     "metadata": {},
     "output_type": "execute_result"
    }
   ],
   "source": [
    "analogy0('african american', 'white', 'vandal', delta=None, topn=5)"
   ]
  },
  {
   "cell_type": "code",
   "execution_count": 147,
   "metadata": {},
   "outputs": [
    {
     "data": {
      "text/plain": [
       "array([['black', '1.0650075674057007'],\n",
       "       ['theives', '1.0300298929214478'],\n",
       "       ['thugs', '1.0157952308654785'],\n",
       "       ['thieves.The', '0.9808555841445923'],\n",
       "       ['crooks', '0.9792903065681458'],\n",
       "       ['criminals', '0.977818489074707'],\n",
       "       ['robbers', '0.9705504775047302'],\n",
       "       ['thief', '0.9645818471908569'],\n",
       "       ['whites', '0.9444677829742432'],\n",
       "       ['hoodlums', '0.9440320730209351'],\n",
       "       ['supremacists', '0.9428340792655945'],\n",
       "       ['racists', '0.9416759610176086'],\n",
       "       ['thiefs', '0.9395136833190918'],\n",
       "       ['bandits', '0.9311843514442444'],\n",
       "       ['muggers', '0.9288290143013'],\n",
       "       ['robber', '0.9285845160484314'],\n",
       "       ['swindlers', '0.924906849861145'],\n",
       "       ['balck', '0.9160826802253723'],\n",
       "       ['thieves.', '0.9152761697769165'],\n",
       "       ['whtie', '0.9142570495605469']], dtype='<U25')"
      ]
     },
     "execution_count": 147,
     "metadata": {},
     "output_type": "execute_result"
    }
   ],
   "source": [
    "analogy0('african american', 'white', 'thieves', delta=None, topn=20)"
   ]
  },
  {
   "cell_type": "code",
   "execution_count": 182,
   "metadata": {},
   "outputs": [
    {
     "data": {
      "text/plain": [
       "array([['black', '1.0767502784729004'],\n",
       "       ['thugs', '1.039048194885254'],\n",
       "       ['non-gang', '1.0209091901779175'],\n",
       "       ['gangs', '1.0165619850158691'],\n",
       "       ['thug', '1.0163345336914062'],\n",
       "       ['supremist', '1.0098861455917358'],\n",
       "       ['whtie', '1.0097661018371582'],\n",
       "       ['gangbangers', '1.0025864839553833'],\n",
       "       ['gangsters', '0.9908527135848999'],\n",
       "       ['supremacist', '0.9904423356056213'],\n",
       "       ['skinhead', '0.9871971607208252'],\n",
       "       ['gang-style', '0.9810749292373657'],\n",
       "       ['gang-members', '0.9791954755783081'],\n",
       "       ['supremacists', '0.9771349430084229'],\n",
       "       ['white-hating', '0.9738985896110535'],\n",
       "       ['gang-member', '0.9697728157043457'],\n",
       "       ['hoodlum', '0.9686892628669739'],\n",
       "       ['supremists', '0.968567430973053'],\n",
       "       ['hoodlums', '0.9659398794174194'],\n",
       "       ['hoodie-wearing', '0.9659146666526794']], dtype='<U26')"
      ]
     },
     "execution_count": 182,
     "metadata": {},
     "output_type": "execute_result"
    }
   ],
   "source": [
    "analogy0('african american', 'white', 'gang', delta=None, topn=20)"
   ]
  },
  {
   "cell_type": "code",
   "execution_count": 209,
   "metadata": {},
   "outputs": [
    {
     "data": {
      "text/plain": [
       "array([['Detective', '0.8900796175003052'],\n",
       "       ['P.I.', '0.841263473033905'],\n",
       "       ['sleuth', '0.8356841802597046'],\n",
       "       ['dectective', '0.8346269726753235'],\n",
       "       ['gumshoe', '0.8338322639465332'],\n",
       "       ['supersleuth', '0.8282768130302429'],\n",
       "       ['detective-like', '0.8170914053916931'],\n",
       "       ['Dectective', '0.816061794757843'],\n",
       "       ['super-sleuth', '0.8077383041381836'],\n",
       "       ['Gumshoe', '0.8049269914627075'],\n",
       "       ['Jurisfiction', '0.7959555387496948'],\n",
       "       ['crime-solver', '0.7914531230926514'],\n",
       "       ['sleuthing', '0.7914251685142517'],\n",
       "       ['mystery-solving', '0.7908843159675598'],\n",
       "       ['Edgar-nominated', '0.7853711843490601'],\n",
       "       ['ex-detective', '0.784339189529419'],\n",
       "       ['Adamsberg', '0.7818381190299988'],\n",
       "       ['investigator', '0.7813197374343872'],\n",
       "       ['Commissario', '0.7788904309272766'],\n",
       "       ['Sejer', '0.7770116925239563']], dtype='<U36')"
      ]
     },
     "execution_count": 209,
     "metadata": {},
     "output_type": "execute_result"
    }
   ],
   "source": [
    "analogy0('whites', 'african american', 'detective', delta=None, topn=20)"
   ]
  },
  {
   "cell_type": "code",
   "execution_count": 3,
   "metadata": {},
   "outputs": [],
   "source": [
    "race = {'african_american' : ['african american', 'black','blacks'],\n",
    "       'caucasian' : ['caucasian', 'white', 'whites']}"
   ]
  },
  {
   "cell_type": "code",
   "execution_count": 4,
   "metadata": {},
   "outputs": [
    {
     "name": "stdout",
     "output_type": "stream",
     "text": [
      "(576, 2)\n"
     ]
    },
    {
     "data": {
      "text/html": [
       "<div>\n",
       "<style scoped>\n",
       "    .dataframe tbody tr th:only-of-type {\n",
       "        vertical-align: middle;\n",
       "    }\n",
       "\n",
       "    .dataframe tbody tr th {\n",
       "        vertical-align: top;\n",
       "    }\n",
       "\n",
       "    .dataframe thead th {\n",
       "        text-align: right;\n",
       "    }\n",
       "</style>\n",
       "<table border=\"1\" class=\"dataframe\">\n",
       "  <thead>\n",
       "    <tr style=\"text-align: right;\">\n",
       "      <th></th>\n",
       "      <th>query_word</th>\n",
       "      <th>word</th>\n",
       "    </tr>\n",
       "  </thead>\n",
       "  <tbody>\n",
       "    <tr>\n",
       "      <td>0</td>\n",
       "      <td>assault</td>\n",
       "      <td>attack</td>\n",
       "    </tr>\n",
       "    <tr>\n",
       "      <td>1</td>\n",
       "      <td>assault</td>\n",
       "      <td>sexual assault</td>\n",
       "    </tr>\n",
       "    <tr>\n",
       "      <td>2</td>\n",
       "      <td>assault</td>\n",
       "      <td>rape</td>\n",
       "    </tr>\n",
       "    <tr>\n",
       "      <td>3</td>\n",
       "      <td>assault</td>\n",
       "      <td>battery</td>\n",
       "    </tr>\n",
       "    <tr>\n",
       "      <td>4</td>\n",
       "      <td>assault</td>\n",
       "      <td>violation</td>\n",
       "    </tr>\n",
       "  </tbody>\n",
       "</table>\n",
       "</div>"
      ],
      "text/plain": [
       "  query_word            word\n",
       "0    assault          attack\n",
       "1    assault  sexual assault\n",
       "2    assault            rape\n",
       "3    assault         battery\n",
       "4    assault       violation"
      ]
     },
     "execution_count": 4,
     "metadata": {},
     "output_type": "execute_result"
    }
   ],
   "source": [
    "crime_lexicon = pd.read_csv(\"data/crime_lexicon.csv\", index_col=0)\n",
    "print(crime_lexicon.shape)\n",
    "crime_lexicon.head()"
   ]
  },
  {
   "cell_type": "code",
   "execution_count": 5,
   "metadata": {},
   "outputs": [],
   "source": [
    "def cosine_similarities(word1, words_all):\n",
    "    w1 = wv.get_vector(word1)\n",
    "    vectors_all = [wv.get_vector(word) for word in words_all]\n",
    "    return wv.cosine_similarities(w1, vectors_all)"
   ]
  },
  {
   "cell_type": "code",
   "execution_count": 6,
   "metadata": {},
   "outputs": [],
   "source": [
    "sim_array = []\n",
    "for r, words in race.items():\n",
    "    similarities = np.zeros(len(crime_lexicon))\n",
    "    for w in words:\n",
    "        similarities += cosine_similarities(w, crime_lexicon.word.values) / len(words)\n",
    "        \n",
    "    crime_lexicon['similarity_' + r] = similarities"
   ]
  },
  {
   "cell_type": "code",
   "execution_count": 7,
   "metadata": {},
   "outputs": [
    {
     "data": {
      "text/html": [
       "<div>\n",
       "<style scoped>\n",
       "    .dataframe tbody tr th:only-of-type {\n",
       "        vertical-align: middle;\n",
       "    }\n",
       "\n",
       "    .dataframe tbody tr th {\n",
       "        vertical-align: top;\n",
       "    }\n",
       "\n",
       "    .dataframe thead th {\n",
       "        text-align: right;\n",
       "    }\n",
       "</style>\n",
       "<table border=\"1\" class=\"dataframe\">\n",
       "  <thead>\n",
       "    <tr style=\"text-align: right;\">\n",
       "      <th></th>\n",
       "      <th>query_word</th>\n",
       "      <th>word</th>\n",
       "      <th>similarity_african_american</th>\n",
       "      <th>similarity_caucasian</th>\n",
       "    </tr>\n",
       "  </thead>\n",
       "  <tbody>\n",
       "    <tr>\n",
       "      <td>0</td>\n",
       "      <td>assault</td>\n",
       "      <td>attack</td>\n",
       "      <td>0.067332</td>\n",
       "      <td>0.038630</td>\n",
       "    </tr>\n",
       "    <tr>\n",
       "      <td>1</td>\n",
       "      <td>assault</td>\n",
       "      <td>sexual assault</td>\n",
       "      <td>0.187763</td>\n",
       "      <td>0.092445</td>\n",
       "    </tr>\n",
       "    <tr>\n",
       "      <td>2</td>\n",
       "      <td>assault</td>\n",
       "      <td>rape</td>\n",
       "      <td>0.187724</td>\n",
       "      <td>0.177497</td>\n",
       "    </tr>\n",
       "    <tr>\n",
       "      <td>3</td>\n",
       "      <td>assault</td>\n",
       "      <td>battery</td>\n",
       "      <td>0.082161</td>\n",
       "      <td>0.100014</td>\n",
       "    </tr>\n",
       "    <tr>\n",
       "      <td>4</td>\n",
       "      <td>assault</td>\n",
       "      <td>violation</td>\n",
       "      <td>0.071319</td>\n",
       "      <td>0.051850</td>\n",
       "    </tr>\n",
       "  </tbody>\n",
       "</table>\n",
       "</div>"
      ],
      "text/plain": [
       "  query_word            word  similarity_african_american  \\\n",
       "0    assault          attack                     0.067332   \n",
       "1    assault  sexual assault                     0.187763   \n",
       "2    assault            rape                     0.187724   \n",
       "3    assault         battery                     0.082161   \n",
       "4    assault       violation                     0.071319   \n",
       "\n",
       "   similarity_caucasian  \n",
       "0              0.038630  \n",
       "1              0.092445  \n",
       "2              0.177497  \n",
       "3              0.100014  \n",
       "4              0.051850  "
      ]
     },
     "execution_count": 7,
     "metadata": {},
     "output_type": "execute_result"
    }
   ],
   "source": [
    "crime_lexicon.head()"
   ]
  },
  {
   "cell_type": "code",
   "execution_count": 9,
   "metadata": {},
   "outputs": [
    {
     "name": "stdout",
     "output_type": "stream",
     "text": [
      "Ks_2sampResult(statistic=0.11284722222222222, pvalue=0.0012925144479047506)\n"
     ]
    }
   ],
   "source": [
    "from scipy.stats import ks_2samp\n",
    "print(ks_2samp(crime_lexicon.similarity_african_american.values,\n",
    "              crime_lexicon.similarity_caucasian.values))"
   ]
  },
  {
   "cell_type": "code",
   "execution_count": 87,
   "metadata": {},
   "outputs": [],
   "source": [
    "crime_lexicon['diff'] = crime_lexicon.similarity_african_american - crime_lexicon.similarity_caucasian"
   ]
  },
  {
   "cell_type": "code",
   "execution_count": 88,
   "metadata": {},
   "outputs": [
    {
     "data": {
      "text/html": [
       "<div>\n",
       "<style scoped>\n",
       "    .dataframe tbody tr th:only-of-type {\n",
       "        vertical-align: middle;\n",
       "    }\n",
       "\n",
       "    .dataframe tbody tr th {\n",
       "        vertical-align: top;\n",
       "    }\n",
       "\n",
       "    .dataframe thead th {\n",
       "        text-align: right;\n",
       "    }\n",
       "</style>\n",
       "<table border=\"1\" class=\"dataframe\">\n",
       "  <thead>\n",
       "    <tr style=\"text-align: right;\">\n",
       "      <th></th>\n",
       "      <th>similarity_african_american</th>\n",
       "      <th>similarity_caucasian</th>\n",
       "      <th>diff</th>\n",
       "    </tr>\n",
       "  </thead>\n",
       "  <tbody>\n",
       "    <tr>\n",
       "      <td>count</td>\n",
       "      <td>576.000000</td>\n",
       "      <td>576.000000</td>\n",
       "      <td>576.000000</td>\n",
       "    </tr>\n",
       "    <tr>\n",
       "      <td>mean</td>\n",
       "      <td>0.105702</td>\n",
       "      <td>0.095168</td>\n",
       "      <td>0.010535</td>\n",
       "    </tr>\n",
       "    <tr>\n",
       "      <td>std</td>\n",
       "      <td>0.047088</td>\n",
       "      <td>0.050294</td>\n",
       "      <td>0.035066</td>\n",
       "    </tr>\n",
       "    <tr>\n",
       "      <td>min</td>\n",
       "      <td>-0.066794</td>\n",
       "      <td>-0.038981</td>\n",
       "      <td>-0.085271</td>\n",
       "    </tr>\n",
       "    <tr>\n",
       "      <td>25%</td>\n",
       "      <td>0.072907</td>\n",
       "      <td>0.058747</td>\n",
       "      <td>-0.012045</td>\n",
       "    </tr>\n",
       "    <tr>\n",
       "      <td>50%</td>\n",
       "      <td>0.102426</td>\n",
       "      <td>0.092671</td>\n",
       "      <td>0.006212</td>\n",
       "    </tr>\n",
       "    <tr>\n",
       "      <td>75%</td>\n",
       "      <td>0.136089</td>\n",
       "      <td>0.126573</td>\n",
       "      <td>0.028574</td>\n",
       "    </tr>\n",
       "    <tr>\n",
       "      <td>max</td>\n",
       "      <td>0.268197</td>\n",
       "      <td>0.279949</td>\n",
       "      <td>0.139174</td>\n",
       "    </tr>\n",
       "  </tbody>\n",
       "</table>\n",
       "</div>"
      ],
      "text/plain": [
       "       similarity_african_american  similarity_caucasian        diff\n",
       "count                   576.000000            576.000000  576.000000\n",
       "mean                      0.105702              0.095168    0.010535\n",
       "std                       0.047088              0.050294    0.035066\n",
       "min                      -0.066794             -0.038981   -0.085271\n",
       "25%                       0.072907              0.058747   -0.012045\n",
       "50%                       0.102426              0.092671    0.006212\n",
       "75%                       0.136089              0.126573    0.028574\n",
       "max                       0.268197              0.279949    0.139174"
      ]
     },
     "execution_count": 88,
     "metadata": {},
     "output_type": "execute_result"
    }
   ],
   "source": [
    "crime_lexicon.describe()"
   ]
  },
  {
   "cell_type": "code",
   "execution_count": 89,
   "metadata": {},
   "outputs": [
    {
     "data": {
      "text/html": [
       "<div>\n",
       "<style scoped>\n",
       "    .dataframe tbody tr th:only-of-type {\n",
       "        vertical-align: middle;\n",
       "    }\n",
       "\n",
       "    .dataframe tbody tr th {\n",
       "        vertical-align: top;\n",
       "    }\n",
       "\n",
       "    .dataframe thead th {\n",
       "        text-align: right;\n",
       "    }\n",
       "</style>\n",
       "<table border=\"1\" class=\"dataframe\">\n",
       "  <thead>\n",
       "    <tr style=\"text-align: right;\">\n",
       "      <th></th>\n",
       "      <th>query_word</th>\n",
       "      <th>word</th>\n",
       "      <th>similarity_african_american</th>\n",
       "      <th>similarity_caucasian</th>\n",
       "      <th>diff</th>\n",
       "    </tr>\n",
       "  </thead>\n",
       "  <tbody>\n",
       "    <tr>\n",
       "      <td>148</td>\n",
       "      <td>burglary</td>\n",
       "      <td>asportation</td>\n",
       "      <td>0.051241</td>\n",
       "      <td>0.136512</td>\n",
       "      <td>-0.085271</td>\n",
       "    </tr>\n",
       "    <tr>\n",
       "      <td>84</td>\n",
       "      <td>assault</td>\n",
       "      <td>misdemeanor</td>\n",
       "      <td>0.040950</td>\n",
       "      <td>0.125755</td>\n",
       "      <td>-0.084805</td>\n",
       "    </tr>\n",
       "    <tr>\n",
       "      <td>394</td>\n",
       "      <td>crime</td>\n",
       "      <td>misdemeanour</td>\n",
       "      <td>0.018114</td>\n",
       "      <td>0.101556</td>\n",
       "      <td>-0.083442</td>\n",
       "    </tr>\n",
       "    <tr>\n",
       "      <td>72</td>\n",
       "      <td>assault</td>\n",
       "      <td>felony</td>\n",
       "      <td>0.080304</td>\n",
       "      <td>0.156879</td>\n",
       "      <td>-0.076576</td>\n",
       "    </tr>\n",
       "    <tr>\n",
       "      <td>67</td>\n",
       "      <td>assault</td>\n",
       "      <td>mug</td>\n",
       "      <td>0.101329</td>\n",
       "      <td>0.174782</td>\n",
       "      <td>-0.073453</td>\n",
       "    </tr>\n",
       "  </tbody>\n",
       "</table>\n",
       "</div>"
      ],
      "text/plain": [
       "    query_word          word  similarity_african_american  \\\n",
       "148   burglary   asportation                     0.051241   \n",
       "84     assault   misdemeanor                     0.040950   \n",
       "394      crime  misdemeanour                     0.018114   \n",
       "72     assault        felony                     0.080304   \n",
       "67     assault           mug                     0.101329   \n",
       "\n",
       "     similarity_caucasian      diff  \n",
       "148              0.136512 -0.085271  \n",
       "84               0.125755 -0.084805  \n",
       "394              0.101556 -0.083442  \n",
       "72               0.156879 -0.076576  \n",
       "67               0.174782 -0.073453  "
      ]
     },
     "execution_count": 89,
     "metadata": {},
     "output_type": "execute_result"
    }
   ],
   "source": [
    "crime_lexicon.sort_values('diff', ascending=True).head(5)"
   ]
  },
  {
   "cell_type": "code",
   "execution_count": 210,
   "metadata": {},
   "outputs": [
    {
     "data": {
      "text/html": [
       "<div>\n",
       "<style scoped>\n",
       "    .dataframe tbody tr th:only-of-type {\n",
       "        vertical-align: middle;\n",
       "    }\n",
       "\n",
       "    .dataframe tbody tr th {\n",
       "        vertical-align: top;\n",
       "    }\n",
       "\n",
       "    .dataframe thead th {\n",
       "        text-align: right;\n",
       "    }\n",
       "</style>\n",
       "<table border=\"1\" class=\"dataframe\">\n",
       "  <thead>\n",
       "    <tr style=\"text-align: right;\">\n",
       "      <th></th>\n",
       "      <th>query_word</th>\n",
       "      <th>word</th>\n",
       "      <th>similarity_african_american</th>\n",
       "      <th>similarity_caucasian</th>\n",
       "      <th>diff</th>\n",
       "    </tr>\n",
       "  </thead>\n",
       "  <tbody>\n",
       "    <tr>\n",
       "      <td>83</td>\n",
       "      <td>assault</td>\n",
       "      <td>statutory rape</td>\n",
       "      <td>0.184091</td>\n",
       "      <td>0.044916</td>\n",
       "      <td>0.139174</td>\n",
       "    </tr>\n",
       "    <tr>\n",
       "      <td>430</td>\n",
       "      <td>crime</td>\n",
       "      <td>infelonious</td>\n",
       "      <td>0.193940</td>\n",
       "      <td>0.058640</td>\n",
       "      <td>0.135300</td>\n",
       "    </tr>\n",
       "    <tr>\n",
       "      <td>919</td>\n",
       "      <td>gang</td>\n",
       "      <td>work party</td>\n",
       "      <td>0.183947</td>\n",
       "      <td>0.049543</td>\n",
       "      <td>0.134404</td>\n",
       "    </tr>\n",
       "    <tr>\n",
       "      <td>158</td>\n",
       "      <td>burglary</td>\n",
       "      <td>criminal contempt</td>\n",
       "      <td>0.202411</td>\n",
       "      <td>0.082077</td>\n",
       "      <td>0.120334</td>\n",
       "    </tr>\n",
       "    <tr>\n",
       "      <td>159</td>\n",
       "      <td>burglary</td>\n",
       "      <td>bolt cutter</td>\n",
       "      <td>0.149188</td>\n",
       "      <td>0.029501</td>\n",
       "      <td>0.119687</td>\n",
       "    </tr>\n",
       "  </tbody>\n",
       "</table>\n",
       "</div>"
      ],
      "text/plain": [
       "    query_word               word  similarity_african_american  \\\n",
       "83     assault     statutory rape                     0.184091   \n",
       "430      crime        infelonious                     0.193940   \n",
       "919       gang         work party                     0.183947   \n",
       "158   burglary  criminal contempt                     0.202411   \n",
       "159   burglary        bolt cutter                     0.149188   \n",
       "\n",
       "     similarity_caucasian      diff  \n",
       "83               0.044916  0.139174  \n",
       "430              0.058640  0.135300  \n",
       "919              0.049543  0.134404  \n",
       "158              0.082077  0.120334  \n",
       "159              0.029501  0.119687  "
      ]
     },
     "execution_count": 210,
     "metadata": {},
     "output_type": "execute_result"
    }
   ],
   "source": [
    "crime_lexicon.sort_values('diff', ascending=False).head(5)"
   ]
  },
  {
   "cell_type": "code",
   "execution_count": 91,
   "metadata": {},
   "outputs": [
    {
     "data": {
      "text/html": [
       "<div>\n",
       "<style scoped>\n",
       "    .dataframe tbody tr th:only-of-type {\n",
       "        vertical-align: middle;\n",
       "    }\n",
       "\n",
       "    .dataframe tbody tr th {\n",
       "        vertical-align: top;\n",
       "    }\n",
       "\n",
       "    .dataframe thead th {\n",
       "        text-align: right;\n",
       "    }\n",
       "</style>\n",
       "<table border=\"1\" class=\"dataframe\">\n",
       "  <thead>\n",
       "    <tr style=\"text-align: right;\">\n",
       "      <th></th>\n",
       "      <th>similarity_african_american</th>\n",
       "      <th>similarity_caucasian</th>\n",
       "      <th>diff</th>\n",
       "    </tr>\n",
       "    <tr>\n",
       "      <th>query_word</th>\n",
       "      <th></th>\n",
       "      <th></th>\n",
       "      <th></th>\n",
       "    </tr>\n",
       "  </thead>\n",
       "  <tbody>\n",
       "    <tr>\n",
       "      <td>burglary</td>\n",
       "      <td>0.113536</td>\n",
       "      <td>0.093776</td>\n",
       "      <td>0.019760</td>\n",
       "    </tr>\n",
       "    <tr>\n",
       "      <td>drugs</td>\n",
       "      <td>0.101549</td>\n",
       "      <td>0.085052</td>\n",
       "      <td>0.016497</td>\n",
       "    </tr>\n",
       "    <tr>\n",
       "      <td>criminal</td>\n",
       "      <td>0.112135</td>\n",
       "      <td>0.095719</td>\n",
       "      <td>0.016416</td>\n",
       "    </tr>\n",
       "    <tr>\n",
       "      <td>prison</td>\n",
       "      <td>0.108561</td>\n",
       "      <td>0.093492</td>\n",
       "      <td>0.015069</td>\n",
       "    </tr>\n",
       "    <tr>\n",
       "      <td>crime</td>\n",
       "      <td>0.107709</td>\n",
       "      <td>0.096775</td>\n",
       "      <td>0.010935</td>\n",
       "    </tr>\n",
       "    <tr>\n",
       "      <td>fraud</td>\n",
       "      <td>0.087705</td>\n",
       "      <td>0.077197</td>\n",
       "      <td>0.010508</td>\n",
       "    </tr>\n",
       "    <tr>\n",
       "      <td>assault</td>\n",
       "      <td>0.094455</td>\n",
       "      <td>0.090336</td>\n",
       "      <td>0.004119</td>\n",
       "    </tr>\n",
       "    <tr>\n",
       "      <td>police</td>\n",
       "      <td>0.107968</td>\n",
       "      <td>0.105473</td>\n",
       "      <td>0.002495</td>\n",
       "    </tr>\n",
       "    <tr>\n",
       "      <td>gang</td>\n",
       "      <td>0.121850</td>\n",
       "      <td>0.120001</td>\n",
       "      <td>0.001849</td>\n",
       "    </tr>\n",
       "  </tbody>\n",
       "</table>\n",
       "</div>"
      ],
      "text/plain": [
       "            similarity_african_american  similarity_caucasian      diff\n",
       "query_word                                                             \n",
       "burglary                       0.113536              0.093776  0.019760\n",
       "drugs                          0.101549              0.085052  0.016497\n",
       "criminal                       0.112135              0.095719  0.016416\n",
       "prison                         0.108561              0.093492  0.015069\n",
       "crime                          0.107709              0.096775  0.010935\n",
       "fraud                          0.087705              0.077197  0.010508\n",
       "assault                        0.094455              0.090336  0.004119\n",
       "police                         0.107968              0.105473  0.002495\n",
       "gang                           0.121850              0.120001  0.001849"
      ]
     },
     "execution_count": 91,
     "metadata": {},
     "output_type": "execute_result"
    }
   ],
   "source": [
    "crime_lexicon.groupby('query_word').mean().sort_values(\"diff\", ascending=False)"
   ]
  },
  {
   "cell_type": "code",
   "execution_count": 189,
   "metadata": {},
   "outputs": [
    {
     "data": {
      "image/png": "[encoded data removed]",
      "text/plain": [
       "<Figure size 504x432 with 1 Axes>"
      ]
     },
     "metadata": {
      "needs_background": "light"
     },
     "output_type": "display_data"
    }
   ],
   "source": [
    "plt.figure(figsize=(7,6))\n",
    "sns.scatterplot(x=\"similarity_african_american\", y=\"similarity_caucasian\", hue=\"query_word\",\n",
    "                data=crime_lexicon)\n",
    "plt.plot([0,0.25], [0,0.25], c='black', linestyle='--')\n",
    "\n",
    "plt.show()"
   ]
  },
  {
   "cell_type": "code",
   "execution_count": 202,
   "metadata": {},
   "outputs": [
    {
     "data": {
      "image/png": "[encoded data removed]",
      "text/plain": [
       "<Figure size 504x432 with 1 Axes>"
      ]
     },
     "metadata": {
      "needs_background": "light"
     },
     "output_type": "display_data"
    }
   ],
   "source": [
    "f, ax = plt.subplots(figsize=(7,6))\n",
    "sc = sns.scatterplot(x=\"similarity_african_american\", y=\"similarity_caucasian\", hue=\"query_word\",\n",
    "                data=crime_lexicon.loc[crime_lexicon.query_word.isin(['burglary', 'police', 'drugs', 'prison', 'gang'])],\n",
    "               ax=ax)\n",
    "ax.plot([0,0.25], [0,0.25], c='black', linestyle='--')\n",
    "ax.set_xlabel('black')\n",
    "ax.set_ylabel('caucasian')\n",
    "h,l = ax.get_legend_handles_labels()\n",
    "plt.legend(h[1:],l[1:])\n",
    "plt.show()"
   ]
  },
  {
   "cell_type": "code",
   "execution_count": 199,
   "metadata": {},
   "outputs": [
    {
     "data": {
      "text/plain": [
       "array(['assault', 'burglary', 'crime', 'criminal', 'drugs', 'fraud',\n",
       "       'gang', 'police', 'prison'], dtype=object)"
      ]
     },
     "execution_count": 199,
     "metadata": {},
     "output_type": "execute_result"
    }
   ],
   "source": [
    "crime_lexicon.query_word.unique()"
   ]
  },
  {
   "cell_type": "code",
   "execution_count": null,
   "metadata": {},
   "outputs": [],
   "source": []
  }
 ],
 "metadata": {
  "kernelspec": {
   "display_name": "Python 3",
   "language": "python",
   "name": "python3"
  },
  "language_info": {
   "codemirror_mode": {
    "name": "ipython",
    "version": 3
   },
   "file_extension": ".py",
   "mimetype": "text/x-python",
   "name": "python",
   "nbconvert_exporter": "python",
   "pygments_lexer": "ipython3",
   "version": "3.7.4"
  }
 },
 "nbformat": 4,
 "nbformat_minor": 2
}
