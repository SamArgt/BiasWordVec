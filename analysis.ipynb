{
 "cells": [
  {
   "cell_type": "code",
   "execution_count": 3,
   "metadata": {},
   "outputs": [
    {
     "name": "stderr",
     "output_type": "stream",
     "text": [
      "unable to import 'smart_open.gcs', disabling that module\n"
     ]
    }
   ],
   "source": [
    "import os\n",
    "import gensim\n",
    "from load_vectors import *\n",
    "import numpy as np\n",
    "import pandas as pd\n",
    "import matplotlib.pyplot as plt \n",
    "import seaborn as sns"
   ]
  },
  {
   "cell_type": "code",
   "execution_count": 4,
   "metadata": {},
   "outputs": [
    {
     "name": "stdout",
     "output_type": "stream",
     "text": [
      "(2000000, 300)\n"
     ]
    }
   ],
   "source": [
    "print(wv.vectors_vocab.shape)"
   ]
  },
  {
   "cell_type": "code",
   "execution_count": 101,
   "metadata": {},
   "outputs": [
    {
     "data": {
      "text/html": [
       "<div>\n",
       "<style scoped>\n",
       "    .dataframe tbody tr th:only-of-type {\n",
       "        vertical-align: middle;\n",
       "    }\n",
       "\n",
       "    .dataframe tbody tr th {\n",
       "        vertical-align: top;\n",
       "    }\n",
       "\n",
       "    .dataframe thead th {\n",
       "        text-align: right;\n",
       "    }\n",
       "</style>\n",
       "<table border=\"1\" class=\"dataframe\">\n",
       "  <thead>\n",
       "    <tr style=\"text-align: right;\">\n",
       "      <th></th>\n",
       "      <th>hardworking</th>\n",
       "      <th>coward</th>\n",
       "      <th>arrogant</th>\n",
       "      <th>drunken</th>\n",
       "      <th>macho</th>\n",
       "      <th>fiery</th>\n",
       "      <th>chauvinism</th>\n",
       "      <th>lazy</th>\n",
       "    </tr>\n",
       "  </thead>\n",
       "  <tbody>\n",
       "    <tr>\n",
       "      <td>0</td>\n",
       "      <td>hardworking</td>\n",
       "      <td>coward</td>\n",
       "      <td>arrogant</td>\n",
       "      <td>drunken</td>\n",
       "      <td>macho</td>\n",
       "      <td>fiery</td>\n",
       "      <td>chauvinism</td>\n",
       "      <td>lazy</td>\n",
       "    </tr>\n",
       "    <tr>\n",
       "      <td>1</td>\n",
       "      <td>dedicated</td>\n",
       "      <td>wimp</td>\n",
       "      <td>aloof</td>\n",
       "      <td>alcoholic</td>\n",
       "      <td>manly</td>\n",
       "      <td>hot-blooded</td>\n",
       "      <td>patriotism</td>\n",
       "      <td>passive</td>\n",
       "    </tr>\n",
       "    <tr>\n",
       "      <td>2</td>\n",
       "      <td>assiduous</td>\n",
       "      <td>weak</td>\n",
       "      <td>bossy</td>\n",
       "      <td>drinking</td>\n",
       "      <td>machismo</td>\n",
       "      <td>hot-headed</td>\n",
       "      <td>bigotry</td>\n",
       "      <td>procrastinating</td>\n",
       "    </tr>\n",
       "    <tr>\n",
       "      <td>3</td>\n",
       "      <td>diligent</td>\n",
       "      <td>mouse</td>\n",
       "      <td>cavalier</td>\n",
       "      <td>alcohol</td>\n",
       "      <td>NaN</td>\n",
       "      <td>hot-tempered</td>\n",
       "      <td>nationalism</td>\n",
       "      <td>idle</td>\n",
       "    </tr>\n",
       "    <tr>\n",
       "      <td>4</td>\n",
       "      <td>assiduous</td>\n",
       "      <td>NaN</td>\n",
       "      <td>cocky</td>\n",
       "      <td>hard-drinker</td>\n",
       "      <td>NaN</td>\n",
       "      <td>passionate</td>\n",
       "      <td>racist</td>\n",
       "      <td>loafing</td>\n",
       "    </tr>\n",
       "  </tbody>\n",
       "</table>\n",
       "</div>"
      ],
      "text/plain": [
       "   hardworking  coward  arrogant       drunken     macho         fiery  \\\n",
       "0  hardworking  coward  arrogant       drunken     macho         fiery   \n",
       "1    dedicated    wimp     aloof     alcoholic     manly   hot-blooded   \n",
       "2    assiduous    weak     bossy      drinking  machismo    hot-headed   \n",
       "3     diligent   mouse  cavalier       alcohol       NaN  hot-tempered   \n",
       "4    assiduous     NaN     cocky  hard-drinker       NaN    passionate   \n",
       "\n",
       "    chauvinism             lazy  \n",
       "0   chauvinism             lazy  \n",
       "1   patriotism          passive  \n",
       "2      bigotry  procrastinating  \n",
       "3  nationalism             idle  \n",
       "4       racist          loafing  "
      ]
     },
     "execution_count": 101,
     "metadata": {},
     "output_type": "execute_result"
    }
   ],
   "source": [
    "adjectives = pd.read_csv(\"data/adjective_synonyms.csv\")\n",
    "adjectives.head()"
   ]
  },
  {
   "cell_type": "code",
   "execution_count": 202,
   "metadata": {},
   "outputs": [],
   "source": [
    "nationalities = np.array([['britain', 'british'],\n",
    "                        ['france', 'french'],\n",
    "                        ['spain', 'spanish'],\n",
    "                        ['italy', 'italian'],\n",
    "                        ['germany','german'],\n",
    "                        ['poland', 'polish'],\n",
    "                         ['cat', 'cat']])\n",
    "adj_columns = adjectives.columns.values"
   ]
  },
  {
   "cell_type": "code",
   "execution_count": 203,
   "metadata": {},
   "outputs": [],
   "source": [
    "# distance(u,v) = 1 - cosine_similarity(u,v)\n",
    "def nationality_distance(wv, nat_arr, adj_arr):\n",
    "    c,n = nat_arr\n",
    "    adj_arr = list(adj_arr)\n",
    "    try:\n",
    "        n_distances = wv.distances(n, adj_arr)\n",
    "        c_distances = wv.distances(c, adj_arr)\n",
    "    except KeyError:\n",
    "        n_distances = []\n",
    "        c_distances = []\n",
    "        for adj in adj_arr:\n",
    "            if adj in wv:\n",
    "                n_distances.append(wv.distance(n, adj))\n",
    "                c_distances.append(wv.distance(c, adj))\n",
    "        n_distances = np.array(n_distances, dtype=float)\n",
    "        c_distances = np.array(c_distances, dtype=float)\n",
    "    distances = n_distances\n",
    "    return n, adj_arr[0], adj_arr, distances"
   ]
  },
  {
   "cell_type": "code",
   "execution_count": 204,
   "metadata": {},
   "outputs": [],
   "source": [
    "results = []\n",
    "for nat_arr in nationalities:\n",
    "    for adj in adj_columns:\n",
    "        adj_arr = adjectives[adj].dropna().tolist()\n",
    "        results.append(nationality_distance(wv, nat_arr, adj_arr))"
   ]
  },
  {
   "cell_type": "code",
   "execution_count": 205,
   "metadata": {},
   "outputs": [],
   "source": [
    "results_df = pd.DataFrame(data=results, columns=['nationality', 'stereotype', 'adjectives', 'distances'])\n",
    "\n",
    "results_df_1 = results_df.distances.apply(pd.Series)\\\n",
    "                    .merge(results_df.drop(\"adjectives\",axis=1), right_index=True, left_index=True)\\\n",
    "                    .drop('distances', axis=1)\\\n",
    "                    .melt(id_vars = ['nationality','stereotype'], value_name=\"distance\")\\\n",
    "                    .drop(\"variable\", axis=1).dropna(axis=0)\\\n",
    "                    .sort_values(['nationality', 'stereotype']).reset_index(drop=True)\n",
    "\n",
    "results_df_2 = results_df.adjectives.apply(pd.Series)\\\n",
    "                    .merge(results_df.drop(\"distances\",axis=1), right_index=True, left_index=True)\\\n",
    "                    .drop('adjectives', axis=1)\\\n",
    "                    .melt(id_vars = ['nationality','stereotype'], value_name=\"adjective\")\\\n",
    "                    .drop(\"variable\", axis=1).dropna(axis=0)\\\n",
    "                    .sort_values(['nationality', 'stereotype']).reset_index(drop=True)\\\n",
    "                    .drop(['nationality', 'stereotype'], axis=1)\n",
    "\n",
    "results_df = results_df_1.merge(results_df_2, right_index=True, left_index=True)"
   ]
  },
  {
   "cell_type": "code",
   "execution_count": 206,
   "metadata": {},
   "outputs": [
    {
     "data": {
      "text/html": [
       "<div>\n",
       "<style scoped>\n",
       "    .dataframe tbody tr th:only-of-type {\n",
       "        vertical-align: middle;\n",
       "    }\n",
       "\n",
       "    .dataframe tbody tr th {\n",
       "        vertical-align: top;\n",
       "    }\n",
       "\n",
       "    .dataframe thead th {\n",
       "        text-align: right;\n",
       "    }\n",
       "</style>\n",
       "<table border=\"1\" class=\"dataframe\">\n",
       "  <thead>\n",
       "    <tr style=\"text-align: right;\">\n",
       "      <th></th>\n",
       "      <th>nationality</th>\n",
       "      <th>stereotype</th>\n",
       "      <th>distance</th>\n",
       "      <th>adjective</th>\n",
       "    </tr>\n",
       "  </thead>\n",
       "  <tbody>\n",
       "    <tr>\n",
       "      <td>0</td>\n",
       "      <td>british</td>\n",
       "      <td>arrogant</td>\n",
       "      <td>0.783831</td>\n",
       "      <td>arrogant</td>\n",
       "    </tr>\n",
       "    <tr>\n",
       "      <td>1</td>\n",
       "      <td>british</td>\n",
       "      <td>arrogant</td>\n",
       "      <td>0.862816</td>\n",
       "      <td>aloof</td>\n",
       "    </tr>\n",
       "    <tr>\n",
       "      <td>2</td>\n",
       "      <td>british</td>\n",
       "      <td>arrogant</td>\n",
       "      <td>0.808620</td>\n",
       "      <td>bossy</td>\n",
       "    </tr>\n",
       "    <tr>\n",
       "      <td>3</td>\n",
       "      <td>british</td>\n",
       "      <td>arrogant</td>\n",
       "      <td>0.752838</td>\n",
       "      <td>cavalier</td>\n",
       "    </tr>\n",
       "    <tr>\n",
       "      <td>4</td>\n",
       "      <td>british</td>\n",
       "      <td>arrogant</td>\n",
       "      <td>0.771651</td>\n",
       "      <td>cocky</td>\n",
       "    </tr>\n",
       "  </tbody>\n",
       "</table>\n",
       "</div>"
      ],
      "text/plain": [
       "  nationality stereotype  distance adjective\n",
       "0     british   arrogant  0.783831  arrogant\n",
       "1     british   arrogant  0.862816     aloof\n",
       "2     british   arrogant  0.808620     bossy\n",
       "3     british   arrogant  0.752838  cavalier\n",
       "4     british   arrogant  0.771651     cocky"
      ]
     },
     "execution_count": 206,
     "metadata": {},
     "output_type": "execute_result"
    }
   ],
   "source": [
    "results_df.head()"
   ]
  },
  {
   "cell_type": "code",
   "execution_count": 207,
   "metadata": {},
   "outputs": [
    {
     "data": {
      "image/png": "[encoded data removed]",
      "text/plain": [
       "<Figure size 1008x1368 with 8 Axes>"
      ]
     },
     "metadata": {
      "needs_background": "light"
     },
     "output_type": "display_data"
    }
   ],
   "source": [
    "f, axes = plt.subplots(nrows=4, ncols=2, figsize=(14,19))\n",
    "axes = axes.flatten()\n",
    "for i, adj in enumerate(adj_columns):\n",
    "    sub_df = results_df.loc[results_df.stereotype==adj]\n",
    "    sns.boxplot(x=\"nationality\", y=\"distance\", data=sub_df, ax=axes[i])\n",
    "    axes[i].set_title(adj)\n",
    "    axes[i].set_xlabel(\"\")\n",
    "plt.show()"
   ]
  },
  {
   "cell_type": "code",
   "execution_count": 208,
   "metadata": {},
   "outputs": [
    {
     "data": {
      "text/plain": [
       "0.36492836475372314"
      ]
     },
     "execution_count": 208,
     "metadata": {},
     "output_type": "execute_result"
    }
   ],
   "source": [
    "wv.distance(\"night\", \"day\")"
   ]
  },
  {
   "cell_type": "code",
   "execution_count": 209,
   "metadata": {},
   "outputs": [
    {
     "data": {
      "text/plain": [
       "0.63507164"
      ]
     },
     "execution_count": 209,
     "metadata": {},
     "output_type": "execute_result"
    }
   ],
   "source": []
  },
  {
   "cell_type": "code",
   "execution_count": 211,
   "metadata": {},
   "outputs": [
    {
     "data": {
      "text/plain": [
       "[('queen', 0.7554813623428345),\n",
       " ('queen-mother', 0.6141631603240967),\n",
       " ('princess', 0.5755329132080078),\n",
       " ('monarch', 0.5741075277328491),\n",
       " ('kings', 0.5688967108726501),\n",
       " ('queenship', 0.5649925470352173),\n",
       " ('Queen', 0.5638619661331177),\n",
       " ('empress', 0.5544730424880981),\n",
       " ('consort', 0.5524798631668091),\n",
       " ('queen.The', 0.5497488975524902)]"
      ]
     },
     "execution_count": 211,
     "metadata": {},
     "output_type": "execute_result"
    }
   ],
   "source": [
    "wv.most_similar(['woman','king'], negative=['man'])"
   ]
  },
  {
   "cell_type": "code",
   "execution_count": 239,
   "metadata": {},
   "outputs": [
    {
     "data": {
      "text/plain": [
       "[('racists', 0.5251808166503906),\n",
       " ('racist.', 0.5227146148681641),\n",
       " ('rascist', 0.5202164649963379),\n",
       " ('racist-', 0.5198675394058228),\n",
       " ('anti-white', 0.4939606487751007),\n",
       " ('anti-White', 0.49224182963371277),\n",
       " ('RACIST', 0.48594677448272705),\n",
       " ('anti-semitic', 0.48554107546806335),\n",
       " ('rasist', 0.4793544113636017),\n",
       " ('racially-based', 0.4711179733276367)]"
      ]
     },
     "execution_count": 239,
     "metadata": {},
     "output_type": "execute_result"
    }
   ],
   "source": [
    "wv.most_similar(['poland','racist'], negative=['french'])"
   ]
  },
  {
   "cell_type": "code",
   "execution_count": null,
   "metadata": {},
   "outputs": [],
   "source": []
  }
 ],
 "metadata": {
  "kernelspec": {
   "display_name": "Python 3",
   "language": "python",
   "name": "python3"
  },
  "language_info": {
   "codemirror_mode": {
    "name": "ipython",
    "version": 3
   },
   "file_extension": ".py",
   "mimetype": "text/x-python",
   "name": "python",
   "nbconvert_exporter": "python",
   "pygments_lexer": "ipython3",
   "version": "3.7.4"
  }
 },
 "nbformat": 4,
 "nbformat_minor": 2
}
